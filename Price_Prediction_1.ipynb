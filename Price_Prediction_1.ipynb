{
  "nbformat": 4,
  "nbformat_minor": 0,
  "metadata": {
    "colab": {
      "name": "Price_Prediction_1.ipynb",
      "provenance": []
    },
    "kernelspec": {
      "name": "python3",
      "display_name": "Python 3"
    }
  },
  "cells": [
    {
      "cell_type": "markdown",
      "metadata": {
        "id": "kqmKgCWJycd_",
        "colab_type": "text"
      },
      "source": [
        "# Price Prediction"
      ]
    },
    {
      "cell_type": "markdown",
      "metadata": {
        "id": "BpHviw7BKPdA",
        "colab_type": "text"
      },
      "source": [
        "**The exploratory analysis of the dataset has revealed/uncoverd a lot of interesting trends in the Airbnb listings based on their location,\n",
        "type of service they offer and has also shown us the Price distribution for the listings over the regions in New York City.**\n",
        "\n",
        "**The next step is to build Price prediction model.**\n",
        "\n",
        "\n",
        "**We will use a number of techniques and algorithms to build different regression models for Price prediction and compare the results. The different techniques we would be using are :**\n",
        "\n",
        "> 1) Random Forest\n",
        "\n",
        "> 2) Gradient Boosting\n",
        "\n",
        "> 3) XGBoost\n",
        "\n",
        "**Finally, we will also build a neural network and compare its performance with these standard machine learning algorithms.**\n",
        "\n",
        "**We will be using sklearn library to build these models. We will perform k-fold cross validation and calculate the cross validation score for each model. Using this score along with the other metrics such as MAE, RMSE, R2-score we will find out the best model for the price prediction task on this dataset.**"
      ]
    },
    {
      "cell_type": "code",
      "metadata": {
        "id": "pi5aRKtOmGfg",
        "colab_type": "code",
        "colab": {
          "base_uri": "https://localhost:8080/",
          "height": 121
        },
        "outputId": "b12aa32e-5a41-493c-c0f3-5cde1fc1d089"
      },
      "source": [
        "from google.colab import drive\n",
        "drive.mount('/content/drive')"
      ],
      "execution_count": 1,
      "outputs": [
        {
          "output_type": "stream",
          "text": [
            "Go to this URL in a browser: https://accounts.google.com/o/oauth2/auth?client_id=947318989803-6bn6qk8qdgf4n4g3pfee6491hc0brc4i.apps.googleusercontent.com&redirect_uri=urn%3aietf%3awg%3aoauth%3a2.0%3aoob&response_type=code&scope=email%20https%3a%2f%2fwww.googleapis.com%2fauth%2fdocs.test%20https%3a%2f%2fwww.googleapis.com%2fauth%2fdrive%20https%3a%2f%2fwww.googleapis.com%2fauth%2fdrive.photos.readonly%20https%3a%2f%2fwww.googleapis.com%2fauth%2fpeopleapi.readonly\n",
            "\n",
            "Enter your authorization code:\n",
            "··········\n",
            "Mounted at /content/drive\n"
          ],
          "name": "stdout"
        }
      ]
    },
    {
      "cell_type": "code",
      "metadata": {
        "id": "JJzwpn08xyq1",
        "colab_type": "code",
        "colab": {}
      },
      "source": [
        "import numpy as np\n",
        "import pandas as pd\n",
        "import seaborn as sns\n",
        "import matplotlib.pyplot as plt"
      ],
      "execution_count": 0,
      "outputs": []
    },
    {
      "cell_type": "markdown",
      "metadata": {
        "id": "N_BaG0FA57Bz",
        "colab_type": "text"
      },
      "source": [
        "**1. Read the dataset into pandas dataframe**"
      ]
    },
    {
      "cell_type": "code",
      "metadata": {
        "id": "D-blx4OU8gA0",
        "colab_type": "code",
        "outputId": "116d75cd-523d-46aa-9862-75788273ca25",
        "colab": {
          "base_uri": "https://localhost:8080/",
          "height": 400
        }
      },
      "source": [
        "# Read the dataset into a pandas dataframe.\n",
        "\n",
        "airbnb_data = pd.read_csv(\"/content/drive/My Drive/Colab Notebooks/AB_NYC_2019.csv\")\n",
        "airbnb_data.head()"
      ],
      "execution_count": 3,
      "outputs": [
        {
          "output_type": "execute_result",
          "data": {
            "text/html": [
              "<div>\n",
              "<style scoped>\n",
              "    .dataframe tbody tr th:only-of-type {\n",
              "        vertical-align: middle;\n",
              "    }\n",
              "\n",
              "    .dataframe tbody tr th {\n",
              "        vertical-align: top;\n",
              "    }\n",
              "\n",
              "    .dataframe thead th {\n",
              "        text-align: right;\n",
              "    }\n",
              "</style>\n",
              "<table border=\"1\" class=\"dataframe\">\n",
              "  <thead>\n",
              "    <tr style=\"text-align: right;\">\n",
              "      <th></th>\n",
              "      <th>id</th>\n",
              "      <th>name</th>\n",
              "      <th>host_id</th>\n",
              "      <th>host_name</th>\n",
              "      <th>neighbourhood_group</th>\n",
              "      <th>neighbourhood</th>\n",
              "      <th>latitude</th>\n",
              "      <th>longitude</th>\n",
              "      <th>room_type</th>\n",
              "      <th>price</th>\n",
              "      <th>minimum_nights</th>\n",
              "      <th>number_of_reviews</th>\n",
              "      <th>last_review</th>\n",
              "      <th>reviews_per_month</th>\n",
              "      <th>calculated_host_listings_count</th>\n",
              "      <th>availability_365</th>\n",
              "    </tr>\n",
              "  </thead>\n",
              "  <tbody>\n",
              "    <tr>\n",
              "      <th>0</th>\n",
              "      <td>2539</td>\n",
              "      <td>Clean &amp; quiet apt home by the park</td>\n",
              "      <td>2787</td>\n",
              "      <td>John</td>\n",
              "      <td>Brooklyn</td>\n",
              "      <td>Kensington</td>\n",
              "      <td>40.64749</td>\n",
              "      <td>-73.97237</td>\n",
              "      <td>Private room</td>\n",
              "      <td>149</td>\n",
              "      <td>1</td>\n",
              "      <td>9</td>\n",
              "      <td>2018-10-19</td>\n",
              "      <td>0.21</td>\n",
              "      <td>6</td>\n",
              "      <td>365</td>\n",
              "    </tr>\n",
              "    <tr>\n",
              "      <th>1</th>\n",
              "      <td>2595</td>\n",
              "      <td>Skylit Midtown Castle</td>\n",
              "      <td>2845</td>\n",
              "      <td>Jennifer</td>\n",
              "      <td>Manhattan</td>\n",
              "      <td>Midtown</td>\n",
              "      <td>40.75362</td>\n",
              "      <td>-73.98377</td>\n",
              "      <td>Entire home/apt</td>\n",
              "      <td>225</td>\n",
              "      <td>1</td>\n",
              "      <td>45</td>\n",
              "      <td>2019-05-21</td>\n",
              "      <td>0.38</td>\n",
              "      <td>2</td>\n",
              "      <td>355</td>\n",
              "    </tr>\n",
              "    <tr>\n",
              "      <th>2</th>\n",
              "      <td>3647</td>\n",
              "      <td>THE VILLAGE OF HARLEM....NEW YORK !</td>\n",
              "      <td>4632</td>\n",
              "      <td>Elisabeth</td>\n",
              "      <td>Manhattan</td>\n",
              "      <td>Harlem</td>\n",
              "      <td>40.80902</td>\n",
              "      <td>-73.94190</td>\n",
              "      <td>Private room</td>\n",
              "      <td>150</td>\n",
              "      <td>3</td>\n",
              "      <td>0</td>\n",
              "      <td>NaN</td>\n",
              "      <td>NaN</td>\n",
              "      <td>1</td>\n",
              "      <td>365</td>\n",
              "    </tr>\n",
              "    <tr>\n",
              "      <th>3</th>\n",
              "      <td>3831</td>\n",
              "      <td>Cozy Entire Floor of Brownstone</td>\n",
              "      <td>4869</td>\n",
              "      <td>LisaRoxanne</td>\n",
              "      <td>Brooklyn</td>\n",
              "      <td>Clinton Hill</td>\n",
              "      <td>40.68514</td>\n",
              "      <td>-73.95976</td>\n",
              "      <td>Entire home/apt</td>\n",
              "      <td>89</td>\n",
              "      <td>1</td>\n",
              "      <td>270</td>\n",
              "      <td>2019-07-05</td>\n",
              "      <td>4.64</td>\n",
              "      <td>1</td>\n",
              "      <td>194</td>\n",
              "    </tr>\n",
              "    <tr>\n",
              "      <th>4</th>\n",
              "      <td>5022</td>\n",
              "      <td>Entire Apt: Spacious Studio/Loft by central park</td>\n",
              "      <td>7192</td>\n",
              "      <td>Laura</td>\n",
              "      <td>Manhattan</td>\n",
              "      <td>East Harlem</td>\n",
              "      <td>40.79851</td>\n",
              "      <td>-73.94399</td>\n",
              "      <td>Entire home/apt</td>\n",
              "      <td>80</td>\n",
              "      <td>10</td>\n",
              "      <td>9</td>\n",
              "      <td>2018-11-19</td>\n",
              "      <td>0.10</td>\n",
              "      <td>1</td>\n",
              "      <td>0</td>\n",
              "    </tr>\n",
              "  </tbody>\n",
              "</table>\n",
              "</div>"
            ],
            "text/plain": [
              "     id  ... availability_365\n",
              "0  2539  ...              365\n",
              "1  2595  ...              355\n",
              "2  3647  ...              365\n",
              "3  3831  ...              194\n",
              "4  5022  ...                0\n",
              "\n",
              "[5 rows x 16 columns]"
            ]
          },
          "metadata": {
            "tags": []
          },
          "execution_count": 3
        }
      ]
    },
    {
      "cell_type": "markdown",
      "metadata": {
        "id": "b-x047iI6Lgt",
        "colab_type": "text"
      },
      "source": [
        "**2. Check the dataset for null values. Null values would affect the predictions and should be handled before we use this data for predictions.**"
      ]
    },
    {
      "cell_type": "code",
      "metadata": {
        "id": "dUy0sQ7w8n6o",
        "colab_type": "code",
        "outputId": "8fd9c54c-77e8-4809-f918-8cf9a1d4af2e",
        "colab": {
          "base_uri": "https://localhost:8080/",
          "height": 302
        }
      },
      "source": [
        "# Check for null values.\n",
        "airbnb_data.isnull().sum()"
      ],
      "execution_count": 4,
      "outputs": [
        {
          "output_type": "execute_result",
          "data": {
            "text/plain": [
              "id                                    0\n",
              "name                                 16\n",
              "host_id                               0\n",
              "host_name                            21\n",
              "neighbourhood_group                   0\n",
              "neighbourhood                         0\n",
              "latitude                              0\n",
              "longitude                             0\n",
              "room_type                             0\n",
              "price                                 0\n",
              "minimum_nights                        0\n",
              "number_of_reviews                     0\n",
              "last_review                       10052\n",
              "reviews_per_month                 10052\n",
              "calculated_host_listings_count        0\n",
              "availability_365                      0\n",
              "dtype: int64"
            ]
          },
          "metadata": {
            "tags": []
          },
          "execution_count": 4
        }
      ]
    },
    {
      "cell_type": "markdown",
      "metadata": {
        "id": "TVtz-fN18-ph",
        "colab_type": "text"
      },
      "source": [
        "**We will drop the columns \"id\", \"name\", \"host_name\", \"last_review\", \"host_id\" as these features are not relevant to the analysis of the data as we explained in the data analysis step earlier at the top. Furthermore, \"last_review\" feature gives the date of the last review which is also not relevant for prediction of price for the listing.**\n",
        "\n",
        "**3. Drop the unwanted features from the dataset.**"
      ]
    },
    {
      "cell_type": "code",
      "metadata": {
        "id": "IB2jgWWb8sjR",
        "colab_type": "code",
        "outputId": "4ddbb96c-b37d-4139-face-78e9abb564b2",
        "colab": {
          "base_uri": "https://localhost:8080/",
          "height": 279
        }
      },
      "source": [
        "airbnb_data = airbnb_data.drop([\"id\", \"name\", \"host_id\", \"host_name\", \"last_review\"], axis = 1)\n",
        "airbnb_data.head()"
      ],
      "execution_count": 5,
      "outputs": [
        {
          "output_type": "execute_result",
          "data": {
            "text/html": [
              "<div>\n",
              "<style scoped>\n",
              "    .dataframe tbody tr th:only-of-type {\n",
              "        vertical-align: middle;\n",
              "    }\n",
              "\n",
              "    .dataframe tbody tr th {\n",
              "        vertical-align: top;\n",
              "    }\n",
              "\n",
              "    .dataframe thead th {\n",
              "        text-align: right;\n",
              "    }\n",
              "</style>\n",
              "<table border=\"1\" class=\"dataframe\">\n",
              "  <thead>\n",
              "    <tr style=\"text-align: right;\">\n",
              "      <th></th>\n",
              "      <th>neighbourhood_group</th>\n",
              "      <th>neighbourhood</th>\n",
              "      <th>latitude</th>\n",
              "      <th>longitude</th>\n",
              "      <th>room_type</th>\n",
              "      <th>price</th>\n",
              "      <th>minimum_nights</th>\n",
              "      <th>number_of_reviews</th>\n",
              "      <th>reviews_per_month</th>\n",
              "      <th>calculated_host_listings_count</th>\n",
              "      <th>availability_365</th>\n",
              "    </tr>\n",
              "  </thead>\n",
              "  <tbody>\n",
              "    <tr>\n",
              "      <th>0</th>\n",
              "      <td>Brooklyn</td>\n",
              "      <td>Kensington</td>\n",
              "      <td>40.64749</td>\n",
              "      <td>-73.97237</td>\n",
              "      <td>Private room</td>\n",
              "      <td>149</td>\n",
              "      <td>1</td>\n",
              "      <td>9</td>\n",
              "      <td>0.21</td>\n",
              "      <td>6</td>\n",
              "      <td>365</td>\n",
              "    </tr>\n",
              "    <tr>\n",
              "      <th>1</th>\n",
              "      <td>Manhattan</td>\n",
              "      <td>Midtown</td>\n",
              "      <td>40.75362</td>\n",
              "      <td>-73.98377</td>\n",
              "      <td>Entire home/apt</td>\n",
              "      <td>225</td>\n",
              "      <td>1</td>\n",
              "      <td>45</td>\n",
              "      <td>0.38</td>\n",
              "      <td>2</td>\n",
              "      <td>355</td>\n",
              "    </tr>\n",
              "    <tr>\n",
              "      <th>2</th>\n",
              "      <td>Manhattan</td>\n",
              "      <td>Harlem</td>\n",
              "      <td>40.80902</td>\n",
              "      <td>-73.94190</td>\n",
              "      <td>Private room</td>\n",
              "      <td>150</td>\n",
              "      <td>3</td>\n",
              "      <td>0</td>\n",
              "      <td>NaN</td>\n",
              "      <td>1</td>\n",
              "      <td>365</td>\n",
              "    </tr>\n",
              "    <tr>\n",
              "      <th>3</th>\n",
              "      <td>Brooklyn</td>\n",
              "      <td>Clinton Hill</td>\n",
              "      <td>40.68514</td>\n",
              "      <td>-73.95976</td>\n",
              "      <td>Entire home/apt</td>\n",
              "      <td>89</td>\n",
              "      <td>1</td>\n",
              "      <td>270</td>\n",
              "      <td>4.64</td>\n",
              "      <td>1</td>\n",
              "      <td>194</td>\n",
              "    </tr>\n",
              "    <tr>\n",
              "      <th>4</th>\n",
              "      <td>Manhattan</td>\n",
              "      <td>East Harlem</td>\n",
              "      <td>40.79851</td>\n",
              "      <td>-73.94399</td>\n",
              "      <td>Entire home/apt</td>\n",
              "      <td>80</td>\n",
              "      <td>10</td>\n",
              "      <td>9</td>\n",
              "      <td>0.10</td>\n",
              "      <td>1</td>\n",
              "      <td>0</td>\n",
              "    </tr>\n",
              "  </tbody>\n",
              "</table>\n",
              "</div>"
            ],
            "text/plain": [
              "  neighbourhood_group  ... availability_365\n",
              "0            Brooklyn  ...              365\n",
              "1           Manhattan  ...              355\n",
              "2           Manhattan  ...              365\n",
              "3            Brooklyn  ...              194\n",
              "4           Manhattan  ...                0\n",
              "\n",
              "[5 rows x 11 columns]"
            ]
          },
          "metadata": {
            "tags": []
          },
          "execution_count": 5
        }
      ]
    },
    {
      "cell_type": "markdown",
      "metadata": {
        "id": "QMWc3ftl9OGE",
        "colab_type": "text"
      },
      "source": [
        "**4. The reviews_per_month feature has a lot of null values, which we will replace with 0.**"
      ]
    },
    {
      "cell_type": "code",
      "metadata": {
        "id": "h80mxlB09P39",
        "colab_type": "code",
        "colab": {}
      },
      "source": [
        "airbnb_data['reviews_per_month'].fillna(0, inplace = True)"
      ],
      "execution_count": 0,
      "outputs": []
    },
    {
      "cell_type": "markdown",
      "metadata": {
        "id": "34m5wg_u66h2",
        "colab_type": "text"
      },
      "source": [
        "**5. Check the dataset for null values after cleanup.**"
      ]
    },
    {
      "cell_type": "code",
      "metadata": {
        "id": "6TqTk95b9Vjs",
        "colab_type": "code",
        "outputId": "c5411218-3720-4bf9-80a9-33b429ef293d",
        "colab": {
          "base_uri": "https://localhost:8080/",
          "height": 218
        }
      },
      "source": [
        "# Check for null values again after cleanup.\n",
        "airbnb_data.isnull().sum()"
      ],
      "execution_count": 7,
      "outputs": [
        {
          "output_type": "execute_result",
          "data": {
            "text/plain": [
              "neighbourhood_group               0\n",
              "neighbourhood                     0\n",
              "latitude                          0\n",
              "longitude                         0\n",
              "room_type                         0\n",
              "price                             0\n",
              "minimum_nights                    0\n",
              "number_of_reviews                 0\n",
              "reviews_per_month                 0\n",
              "calculated_host_listings_count    0\n",
              "availability_365                  0\n",
              "dtype: int64"
            ]
          },
          "metadata": {
            "tags": []
          },
          "execution_count": 7
        }
      ]
    },
    {
      "cell_type": "markdown",
      "metadata": {
        "id": "Bcnti53_9dXS",
        "colab_type": "text"
      },
      "source": [
        "**6. Check for correlation between the variables using the pearson correlation matrix.**"
      ]
    },
    {
      "cell_type": "code",
      "metadata": {
        "id": "d8gMbrEd9fEw",
        "colab_type": "code",
        "outputId": "19a96e57-2ebe-47d9-f16b-58d53ebd6847",
        "colab": {
          "base_uri": "https://localhost:8080/",
          "height": 706
        }
      },
      "source": [
        "corr_matrix = airbnb_data.corr(\"pearson\")\n",
        "plt.figure(figsize=(10, 10))\n",
        "sns.heatmap(corr_matrix, square=True, annot=True)"
      ],
      "execution_count": 8,
      "outputs": [
        {
          "output_type": "execute_result",
          "data": {
            "text/plain": [
              "<matplotlib.axes._subplots.AxesSubplot at 0x7f9b753a6400>"
            ]
          },
          "metadata": {
            "tags": []
          },
          "execution_count": 8
        },
        {
          "output_type": "display_data",
          "data": {
            "image/png": "[encoded data removed]",
            "text/plain": [
              "<Figure size 720x720 with 2 Axes>"
            ]
          },
          "metadata": {
            "tags": []
          }
        }
      ]
    },
    {
      "cell_type": "markdown",
      "metadata": {
        "id": "YiW7JoRw9mGM",
        "colab_type": "text"
      },
      "source": [
        "**From the above, we do not see any strong correlations between variables. So, there is no need to remove any variables because they are strongly correlated and do not add additional information.**\n",
        "\n",
        "**However, we observe that price and longitude features are inversely related. This makes sense, as based on the exploratory data analysis, listings in Manhattan are expensive than Queens,Bronx.**\n",
        "\n",
        "**7. Encode the categorical features using One Hot Encoding.**"
      ]
    },
    {
      "cell_type": "code",
      "metadata": {
        "id": "dhvsmcVp9qyB",
        "colab_type": "code",
        "colab": {}
      },
      "source": [
        "# The categorical features would be encoded using One Hot Encoding.\n",
        "# To use the in-built pandas encoding API, we need to convert the categorical columns in our dataset to type categorical.\n",
        "airbnb_data['neighbourhood_group'] = pd.Categorical(airbnb_data['neighbourhood_group'])\n",
        "airbnb_data['neighbourhood'] = pd.Categorical(airbnb_data['neighbourhood'])\n",
        "airbnb_data['room_type'] = pd.Categorical(airbnb_data['room_type'])\n",
        "one_hot_encode_neighbourhoodgroup = pd.get_dummies(airbnb_data['neighbourhood_group'], prefix = 'category')\n",
        "one_hot_encode_neighbourhood = pd.get_dummies(airbnb_data['neighbourhood'], prefix = 'category')\n",
        "one_hot_encode_roomtype = pd.get_dummies(airbnb_data['room_type'], prefix = 'category')\n",
        "airbnb_data_encoded = pd.concat([airbnb_data, one_hot_encode_neighbourhoodgroup, one_hot_encode_neighbourhood, one_hot_encode_roomtype], axis = 1)"
      ],
      "execution_count": 0,
      "outputs": []
    },
    {
      "cell_type": "markdown",
      "metadata": {
        "id": "rg2as4eO8kal",
        "colab_type": "text"
      },
      "source": [
        "**8. Check the datatypes after encoding. All the categorical features are converted into type 'category' and new features are added as a result of One Hot encoding. So, now we have about 240 features.**"
      ]
    },
    {
      "cell_type": "code",
      "metadata": {
        "id": "jMajmP-x9uNX",
        "colab_type": "code",
        "outputId": "5842abfb-9ac0-4065-f004-bd21957dd348",
        "colab": {
          "base_uri": "https://localhost:8080/",
          "height": 218
        }
      },
      "source": [
        "airbnb_data_encoded.dtypes"
      ],
      "execution_count": 10,
      "outputs": [
        {
          "output_type": "execute_result",
          "data": {
            "text/plain": [
              "neighbourhood_group         category\n",
              "neighbourhood               category\n",
              "latitude                     float64\n",
              "longitude                    float64\n",
              "room_type                   category\n",
              "                              ...   \n",
              "category_Woodrow               uint8\n",
              "category_Woodside              uint8\n",
              "category_Entire home/apt       uint8\n",
              "category_Private room          uint8\n",
              "category_Shared room           uint8\n",
              "Length: 240, dtype: object"
            ]
          },
          "metadata": {
            "tags": []
          },
          "execution_count": 10
        }
      ]
    },
    {
      "cell_type": "markdown",
      "metadata": {
        "id": "clqjWg5z9yFx",
        "colab_type": "text"
      },
      "source": [
        "**9. Drop the original categorical features from the dataset as the newly added one hot encoded features would be used for predictions.**"
      ]
    },
    {
      "cell_type": "code",
      "metadata": {
        "id": "SsWu3AZc92LA",
        "colab_type": "code",
        "colab": {}
      },
      "source": [
        "airbnb_data_processed = airbnb_data_encoded.drop(columns=[\"neighbourhood_group\", \"neighbourhood\", \"room_type\"], axis=1)"
      ],
      "execution_count": 0,
      "outputs": []
    },
    {
      "cell_type": "markdown",
      "metadata": {
        "id": "HXk9KR1f-M_G",
        "colab_type": "text"
      },
      "source": [
        "**10. Separate the 'Price' feature from other features as it is the target feature that we are predicting and then drop it from the dataset**"
      ]
    },
    {
      "cell_type": "code",
      "metadata": {
        "id": "8M2E4ziJ-UtY",
        "colab_type": "code",
        "outputId": "5ba3d6ec-ac73-483d-d794-547c12b7ae15",
        "colab": {
          "base_uri": "https://localhost:8080/",
          "height": 294
        }
      },
      "source": [
        "target_y = airbnb_data_processed['price']\n",
        "airbnb_data_processed_final = airbnb_data_processed.drop(['price'], axis=1)\n",
        "airbnb_data_processed_final.head()"
      ],
      "execution_count": 12,
      "outputs": [
        {
          "output_type": "execute_result",
          "data": {
            "text/html": [
              "<div>\n",
              "<style scoped>\n",
              "    .dataframe tbody tr th:only-of-type {\n",
              "        vertical-align: middle;\n",
              "    }\n",
              "\n",
              "    .dataframe tbody tr th {\n",
              "        vertical-align: top;\n",
              "    }\n",
              "\n",
              "    .dataframe thead th {\n",
              "        text-align: right;\n",
              "    }\n",
              "</style>\n",
              "<table border=\"1\" class=\"dataframe\">\n",
              "  <thead>\n",
              "    <tr style=\"text-align: right;\">\n",
              "      <th></th>\n",
              "      <th>latitude</th>\n",
              "      <th>longitude</th>\n",
              "      <th>minimum_nights</th>\n",
              "      <th>number_of_reviews</th>\n",
              "      <th>reviews_per_month</th>\n",
              "      <th>calculated_host_listings_count</th>\n",
              "      <th>availability_365</th>\n",
              "      <th>category_Bronx</th>\n",
              "      <th>category_Brooklyn</th>\n",
              "      <th>category_Manhattan</th>\n",
              "      <th>category_Queens</th>\n",
              "      <th>category_Staten Island</th>\n",
              "      <th>category_Allerton</th>\n",
              "      <th>category_Arden Heights</th>\n",
              "      <th>category_Arrochar</th>\n",
              "      <th>category_Arverne</th>\n",
              "      <th>category_Astoria</th>\n",
              "      <th>category_Bath Beach</th>\n",
              "      <th>category_Battery Park City</th>\n",
              "      <th>category_Bay Ridge</th>\n",
              "      <th>category_Bay Terrace</th>\n",
              "      <th>category_Bay Terrace, Staten Island</th>\n",
              "      <th>category_Baychester</th>\n",
              "      <th>category_Bayside</th>\n",
              "      <th>category_Bayswater</th>\n",
              "      <th>category_Bedford-Stuyvesant</th>\n",
              "      <th>category_Belle Harbor</th>\n",
              "      <th>category_Bellerose</th>\n",
              "      <th>category_Belmont</th>\n",
              "      <th>category_Bensonhurst</th>\n",
              "      <th>category_Bergen Beach</th>\n",
              "      <th>category_Boerum Hill</th>\n",
              "      <th>category_Borough Park</th>\n",
              "      <th>category_Breezy Point</th>\n",
              "      <th>category_Briarwood</th>\n",
              "      <th>category_Brighton Beach</th>\n",
              "      <th>category_Bronxdale</th>\n",
              "      <th>category_Brooklyn Heights</th>\n",
              "      <th>category_Brownsville</th>\n",
              "      <th>category_Bull's Head</th>\n",
              "      <th>...</th>\n",
              "      <th>category_Spuyten Duyvil</th>\n",
              "      <th>category_St. Albans</th>\n",
              "      <th>category_St. George</th>\n",
              "      <th>category_Stapleton</th>\n",
              "      <th>category_Stuyvesant Town</th>\n",
              "      <th>category_Sunnyside</th>\n",
              "      <th>category_Sunset Park</th>\n",
              "      <th>category_Theater District</th>\n",
              "      <th>category_Throgs Neck</th>\n",
              "      <th>category_Todt Hill</th>\n",
              "      <th>category_Tompkinsville</th>\n",
              "      <th>category_Tottenville</th>\n",
              "      <th>category_Tremont</th>\n",
              "      <th>category_Tribeca</th>\n",
              "      <th>category_Two Bridges</th>\n",
              "      <th>category_Unionport</th>\n",
              "      <th>category_University Heights</th>\n",
              "      <th>category_Upper East Side</th>\n",
              "      <th>category_Upper West Side</th>\n",
              "      <th>category_Van Nest</th>\n",
              "      <th>category_Vinegar Hill</th>\n",
              "      <th>category_Wakefield</th>\n",
              "      <th>category_Washington Heights</th>\n",
              "      <th>category_West Brighton</th>\n",
              "      <th>category_West Farms</th>\n",
              "      <th>category_West Village</th>\n",
              "      <th>category_Westchester Square</th>\n",
              "      <th>category_Westerleigh</th>\n",
              "      <th>category_Whitestone</th>\n",
              "      <th>category_Williamsbridge</th>\n",
              "      <th>category_Williamsburg</th>\n",
              "      <th>category_Willowbrook</th>\n",
              "      <th>category_Windsor Terrace</th>\n",
              "      <th>category_Woodhaven</th>\n",
              "      <th>category_Woodlawn</th>\n",
              "      <th>category_Woodrow</th>\n",
              "      <th>category_Woodside</th>\n",
              "      <th>category_Entire home/apt</th>\n",
              "      <th>category_Private room</th>\n",
              "      <th>category_Shared room</th>\n",
              "    </tr>\n",
              "  </thead>\n",
              "  <tbody>\n",
              "    <tr>\n",
              "      <th>0</th>\n",
              "      <td>40.64749</td>\n",
              "      <td>-73.97237</td>\n",
              "      <td>1</td>\n",
              "      <td>9</td>\n",
              "      <td>0.21</td>\n",
              "      <td>6</td>\n",
              "      <td>365</td>\n",
              "      <td>0</td>\n",
              "      <td>1</td>\n",
              "      <td>0</td>\n",
              "      <td>0</td>\n",
              "      <td>0</td>\n",
              "      <td>0</td>\n",
              "      <td>0</td>\n",
              "      <td>0</td>\n",
              "      <td>0</td>\n",
              "      <td>0</td>\n",
              "      <td>0</td>\n",
              "      <td>0</td>\n",
              "      <td>0</td>\n",
              "      <td>0</td>\n",
              "      <td>0</td>\n",
              "      <td>0</td>\n",
              "      <td>0</td>\n",
              "      <td>0</td>\n",
              "      <td>0</td>\n",
              "      <td>0</td>\n",
              "      <td>0</td>\n",
              "      <td>0</td>\n",
              "      <td>0</td>\n",
              "      <td>0</td>\n",
              "      <td>0</td>\n",
              "      <td>0</td>\n",
              "      <td>0</td>\n",
              "      <td>0</td>\n",
              "      <td>0</td>\n",
              "      <td>0</td>\n",
              "      <td>0</td>\n",
              "      <td>0</td>\n",
              "      <td>0</td>\n",
              "      <td>...</td>\n",
              "      <td>0</td>\n",
              "      <td>0</td>\n",
              "      <td>0</td>\n",
              "      <td>0</td>\n",
              "      <td>0</td>\n",
              "      <td>0</td>\n",
              "      <td>0</td>\n",
              "      <td>0</td>\n",
              "      <td>0</td>\n",
              "      <td>0</td>\n",
              "      <td>0</td>\n",
              "      <td>0</td>\n",
              "      <td>0</td>\n",
              "      <td>0</td>\n",
              "      <td>0</td>\n",
              "      <td>0</td>\n",
              "      <td>0</td>\n",
              "      <td>0</td>\n",
              "      <td>0</td>\n",
              "      <td>0</td>\n",
              "      <td>0</td>\n",
              "      <td>0</td>\n",
              "      <td>0</td>\n",
              "      <td>0</td>\n",
              "      <td>0</td>\n",
              "      <td>0</td>\n",
              "      <td>0</td>\n",
              "      <td>0</td>\n",
              "      <td>0</td>\n",
              "      <td>0</td>\n",
              "      <td>0</td>\n",
              "      <td>0</td>\n",
              "      <td>0</td>\n",
              "      <td>0</td>\n",
              "      <td>0</td>\n",
              "      <td>0</td>\n",
              "      <td>0</td>\n",
              "      <td>0</td>\n",
              "      <td>1</td>\n",
              "      <td>0</td>\n",
              "    </tr>\n",
              "    <tr>\n",
              "      <th>1</th>\n",
              "      <td>40.75362</td>\n",
              "      <td>-73.98377</td>\n",
              "      <td>1</td>\n",
              "      <td>45</td>\n",
              "      <td>0.38</td>\n",
              "      <td>2</td>\n",
              "      <td>355</td>\n",
              "      <td>0</td>\n",
              "      <td>0</td>\n",
              "      <td>1</td>\n",
              "      <td>0</td>\n",
              "      <td>0</td>\n",
              "      <td>0</td>\n",
              "      <td>0</td>\n",
              "      <td>0</td>\n",
              "      <td>0</td>\n",
              "      <td>0</td>\n",
              "      <td>0</td>\n",
              "      <td>0</td>\n",
              "      <td>0</td>\n",
              "      <td>0</td>\n",
              "      <td>0</td>\n",
              "      <td>0</td>\n",
              "      <td>0</td>\n",
              "      <td>0</td>\n",
              "      <td>0</td>\n",
              "      <td>0</td>\n",
              "      <td>0</td>\n",
              "      <td>0</td>\n",
              "      <td>0</td>\n",
              "      <td>0</td>\n",
              "      <td>0</td>\n",
              "      <td>0</td>\n",
              "      <td>0</td>\n",
              "      <td>0</td>\n",
              "      <td>0</td>\n",
              "      <td>0</td>\n",
              "      <td>0</td>\n",
              "      <td>0</td>\n",
              "      <td>0</td>\n",
              "      <td>...</td>\n",
              "      <td>0</td>\n",
              "      <td>0</td>\n",
              "      <td>0</td>\n",
              "      <td>0</td>\n",
              "      <td>0</td>\n",
              "      <td>0</td>\n",
              "      <td>0</td>\n",
              "      <td>0</td>\n",
              "      <td>0</td>\n",
              "      <td>0</td>\n",
              "      <td>0</td>\n",
              "      <td>0</td>\n",
              "      <td>0</td>\n",
              "      <td>0</td>\n",
              "      <td>0</td>\n",
              "      <td>0</td>\n",
              "      <td>0</td>\n",
              "      <td>0</td>\n",
              "      <td>0</td>\n",
              "      <td>0</td>\n",
              "      <td>0</td>\n",
              "      <td>0</td>\n",
              "      <td>0</td>\n",
              "      <td>0</td>\n",
              "      <td>0</td>\n",
              "      <td>0</td>\n",
              "      <td>0</td>\n",
              "      <td>0</td>\n",
              "      <td>0</td>\n",
              "      <td>0</td>\n",
              "      <td>0</td>\n",
              "      <td>0</td>\n",
              "      <td>0</td>\n",
              "      <td>0</td>\n",
              "      <td>0</td>\n",
              "      <td>0</td>\n",
              "      <td>0</td>\n",
              "      <td>1</td>\n",
              "      <td>0</td>\n",
              "      <td>0</td>\n",
              "    </tr>\n",
              "    <tr>\n",
              "      <th>2</th>\n",
              "      <td>40.80902</td>\n",
              "      <td>-73.94190</td>\n",
              "      <td>3</td>\n",
              "      <td>0</td>\n",
              "      <td>0.00</td>\n",
              "      <td>1</td>\n",
              "      <td>365</td>\n",
              "      <td>0</td>\n",
              "      <td>0</td>\n",
              "      <td>1</td>\n",
              "      <td>0</td>\n",
              "      <td>0</td>\n",
              "      <td>0</td>\n",
              "      <td>0</td>\n",
              "      <td>0</td>\n",
              "      <td>0</td>\n",
              "      <td>0</td>\n",
              "      <td>0</td>\n",
              "      <td>0</td>\n",
              "      <td>0</td>\n",
              "      <td>0</td>\n",
              "      <td>0</td>\n",
              "      <td>0</td>\n",
              "      <td>0</td>\n",
              "      <td>0</td>\n",
              "      <td>0</td>\n",
              "      <td>0</td>\n",
              "      <td>0</td>\n",
              "      <td>0</td>\n",
              "      <td>0</td>\n",
              "      <td>0</td>\n",
              "      <td>0</td>\n",
              "      <td>0</td>\n",
              "      <td>0</td>\n",
              "      <td>0</td>\n",
              "      <td>0</td>\n",
              "      <td>0</td>\n",
              "      <td>0</td>\n",
              "      <td>0</td>\n",
              "      <td>0</td>\n",
              "      <td>...</td>\n",
              "      <td>0</td>\n",
              "      <td>0</td>\n",
              "      <td>0</td>\n",
              "      <td>0</td>\n",
              "      <td>0</td>\n",
              "      <td>0</td>\n",
              "      <td>0</td>\n",
              "      <td>0</td>\n",
              "      <td>0</td>\n",
              "      <td>0</td>\n",
              "      <td>0</td>\n",
              "      <td>0</td>\n",
              "      <td>0</td>\n",
              "      <td>0</td>\n",
              "      <td>0</td>\n",
              "      <td>0</td>\n",
              "      <td>0</td>\n",
              "      <td>0</td>\n",
              "      <td>0</td>\n",
              "      <td>0</td>\n",
              "      <td>0</td>\n",
              "      <td>0</td>\n",
              "      <td>0</td>\n",
              "      <td>0</td>\n",
              "      <td>0</td>\n",
              "      <td>0</td>\n",
              "      <td>0</td>\n",
              "      <td>0</td>\n",
              "      <td>0</td>\n",
              "      <td>0</td>\n",
              "      <td>0</td>\n",
              "      <td>0</td>\n",
              "      <td>0</td>\n",
              "      <td>0</td>\n",
              "      <td>0</td>\n",
              "      <td>0</td>\n",
              "      <td>0</td>\n",
              "      <td>0</td>\n",
              "      <td>1</td>\n",
              "      <td>0</td>\n",
              "    </tr>\n",
              "    <tr>\n",
              "      <th>3</th>\n",
              "      <td>40.68514</td>\n",
              "      <td>-73.95976</td>\n",
              "      <td>1</td>\n",
              "      <td>270</td>\n",
              "      <td>4.64</td>\n",
              "      <td>1</td>\n",
              "      <td>194</td>\n",
              "      <td>0</td>\n",
              "      <td>1</td>\n",
              "      <td>0</td>\n",
              "      <td>0</td>\n",
              "      <td>0</td>\n",
              "      <td>0</td>\n",
              "      <td>0</td>\n",
              "      <td>0</td>\n",
              "      <td>0</td>\n",
              "      <td>0</td>\n",
              "      <td>0</td>\n",
              "      <td>0</td>\n",
              "      <td>0</td>\n",
              "      <td>0</td>\n",
              "      <td>0</td>\n",
              "      <td>0</td>\n",
              "      <td>0</td>\n",
              "      <td>0</td>\n",
              "      <td>0</td>\n",
              "      <td>0</td>\n",
              "      <td>0</td>\n",
              "      <td>0</td>\n",
              "      <td>0</td>\n",
              "      <td>0</td>\n",
              "      <td>0</td>\n",
              "      <td>0</td>\n",
              "      <td>0</td>\n",
              "      <td>0</td>\n",
              "      <td>0</td>\n",
              "      <td>0</td>\n",
              "      <td>0</td>\n",
              "      <td>0</td>\n",
              "      <td>0</td>\n",
              "      <td>...</td>\n",
              "      <td>0</td>\n",
              "      <td>0</td>\n",
              "      <td>0</td>\n",
              "      <td>0</td>\n",
              "      <td>0</td>\n",
              "      <td>0</td>\n",
              "      <td>0</td>\n",
              "      <td>0</td>\n",
              "      <td>0</td>\n",
              "      <td>0</td>\n",
              "      <td>0</td>\n",
              "      <td>0</td>\n",
              "      <td>0</td>\n",
              "      <td>0</td>\n",
              "      <td>0</td>\n",
              "      <td>0</td>\n",
              "      <td>0</td>\n",
              "      <td>0</td>\n",
              "      <td>0</td>\n",
              "      <td>0</td>\n",
              "      <td>0</td>\n",
              "      <td>0</td>\n",
              "      <td>0</td>\n",
              "      <td>0</td>\n",
              "      <td>0</td>\n",
              "      <td>0</td>\n",
              "      <td>0</td>\n",
              "      <td>0</td>\n",
              "      <td>0</td>\n",
              "      <td>0</td>\n",
              "      <td>0</td>\n",
              "      <td>0</td>\n",
              "      <td>0</td>\n",
              "      <td>0</td>\n",
              "      <td>0</td>\n",
              "      <td>0</td>\n",
              "      <td>0</td>\n",
              "      <td>1</td>\n",
              "      <td>0</td>\n",
              "      <td>0</td>\n",
              "    </tr>\n",
              "    <tr>\n",
              "      <th>4</th>\n",
              "      <td>40.79851</td>\n",
              "      <td>-73.94399</td>\n",
              "      <td>10</td>\n",
              "      <td>9</td>\n",
              "      <td>0.10</td>\n",
              "      <td>1</td>\n",
              "      <td>0</td>\n",
              "      <td>0</td>\n",
              "      <td>0</td>\n",
              "      <td>1</td>\n",
              "      <td>0</td>\n",
              "      <td>0</td>\n",
              "      <td>0</td>\n",
              "      <td>0</td>\n",
              "      <td>0</td>\n",
              "      <td>0</td>\n",
              "      <td>0</td>\n",
              "      <td>0</td>\n",
              "      <td>0</td>\n",
              "      <td>0</td>\n",
              "      <td>0</td>\n",
              "      <td>0</td>\n",
              "      <td>0</td>\n",
              "      <td>0</td>\n",
              "      <td>0</td>\n",
              "      <td>0</td>\n",
              "      <td>0</td>\n",
              "      <td>0</td>\n",
              "      <td>0</td>\n",
              "      <td>0</td>\n",
              "      <td>0</td>\n",
              "      <td>0</td>\n",
              "      <td>0</td>\n",
              "      <td>0</td>\n",
              "      <td>0</td>\n",
              "      <td>0</td>\n",
              "      <td>0</td>\n",
              "      <td>0</td>\n",
              "      <td>0</td>\n",
              "      <td>0</td>\n",
              "      <td>...</td>\n",
              "      <td>0</td>\n",
              "      <td>0</td>\n",
              "      <td>0</td>\n",
              "      <td>0</td>\n",
              "      <td>0</td>\n",
              "      <td>0</td>\n",
              "      <td>0</td>\n",
              "      <td>0</td>\n",
              "      <td>0</td>\n",
              "      <td>0</td>\n",
              "      <td>0</td>\n",
              "      <td>0</td>\n",
              "      <td>0</td>\n",
              "      <td>0</td>\n",
              "      <td>0</td>\n",
              "      <td>0</td>\n",
              "      <td>0</td>\n",
              "      <td>0</td>\n",
              "      <td>0</td>\n",
              "      <td>0</td>\n",
              "      <td>0</td>\n",
              "      <td>0</td>\n",
              "      <td>0</td>\n",
              "      <td>0</td>\n",
              "      <td>0</td>\n",
              "      <td>0</td>\n",
              "      <td>0</td>\n",
              "      <td>0</td>\n",
              "      <td>0</td>\n",
              "      <td>0</td>\n",
              "      <td>0</td>\n",
              "      <td>0</td>\n",
              "      <td>0</td>\n",
              "      <td>0</td>\n",
              "      <td>0</td>\n",
              "      <td>0</td>\n",
              "      <td>0</td>\n",
              "      <td>1</td>\n",
              "      <td>0</td>\n",
              "      <td>0</td>\n",
              "    </tr>\n",
              "  </tbody>\n",
              "</table>\n",
              "<p>5 rows × 236 columns</p>\n",
              "</div>"
            ],
            "text/plain": [
              "   latitude  longitude  ...  category_Private room  category_Shared room\n",
              "0  40.64749  -73.97237  ...                      1                     0\n",
              "1  40.75362  -73.98377  ...                      0                     0\n",
              "2  40.80902  -73.94190  ...                      1                     0\n",
              "3  40.68514  -73.95976  ...                      0                     0\n",
              "4  40.79851  -73.94399  ...                      0                     0\n",
              "\n",
              "[5 rows x 236 columns]"
            ]
          },
          "metadata": {
            "tags": []
          },
          "execution_count": 12
        }
      ]
    },
    {
      "cell_type": "code",
      "metadata": {
        "colab_type": "code",
        "outputId": "f04a73b6-11ad-447c-d3fc-23e2201a70ca",
        "id": "VMicTGJZk1kk",
        "colab": {
          "base_uri": "https://localhost:8080/",
          "height": 84
        }
      },
      "source": [
        "# Ridge regression\n",
        "from sklearn.preprocessing import MinMaxScaler\n",
        "from sklearn.model_selection import train_test_split, KFold, cross_val_score\n",
        "from sklearn import metrics\n",
        "from sklearn.linear_model import Ridge, Lasso\n",
        "\n",
        "X_features = airbnb_data_processed_final.columns\n",
        "scaler = MinMaxScaler()\n",
        "airbnb_data_processed_final_copy = airbnb_data_processed_final.copy()\n",
        "X_train, X_test, y_train, y_test = train_test_split(airbnb_data_processed_final_copy[X_features], target_y, test_size=0.2, random_state = 0)\n",
        "\n",
        "X_train = scaler.fit_transform(X_train)\n",
        "X_test = scaler.fit_transform(X_test)\n",
        "\n",
        "model = Ridge(alpha=0.01, fit_intercept=True, random_state=0)\n",
        "model.fit(X_train, y_train)\n",
        "\n",
        "Y_pred = model.predict(X_test)\n",
        "\n",
        "print(\"Mean Absolute Error: \", metrics.mean_absolute_error(y_test, Y_pred))\n",
        "\n",
        "print(\"Root Mean Squared Error: \", np.sqrt(metrics.mean_squared_error(y_test, Y_pred)))\n",
        "print(\"R2 score: \", metrics.r2_score(y_test, Y_pred))\n",
        "\n",
        "# Use 10-fold cross validation and calculate cross-validation score.\n",
        "airbnb_data_processed_final_copy_1 = airbnb_data_processed_final.copy()\n",
        "X = airbnb_data_processed_final_copy_1[X_features]\n",
        "X = scaler.fit_transform(X)\n",
        "print(\"Cross validation score: \", -cross_val_score(model, X, target_y, scoring='neg_mean_squared_error', cv=10).mean())"
      ],
      "execution_count": 13,
      "outputs": [
        {
          "output_type": "stream",
          "text": [
            "Mean Absolute Error:  70.77230086666896\n",
            "Root Mean Squared Error:  219.79917926053102\n",
            "R2 score:  0.12221602936208231\n",
            "Cross validation score:  51499.26550218204\n"
          ],
          "name": "stdout"
        }
      ]
    },
    {
      "cell_type": "markdown",
      "metadata": {
        "id": "gCqvVvIg_JZp",
        "colab_type": "text"
      },
      "source": [
        "**Here we observe that the RMSE, MAE is very high.**\n",
        "\n",
        "**12. Check the distribution of the price feature.**"
      ]
    },
    {
      "cell_type": "code",
      "metadata": {
        "id": "E0BOC2pW_afn",
        "colab_type": "code",
        "outputId": "325ef715-3b15-4638-89e3-140c250c243c",
        "colab": {
          "base_uri": "https://localhost:8080/",
          "height": 351
        }
      },
      "source": [
        "# Price distribution.\n",
        "plt.figure(figsize=(10,5))\n",
        "sns.distplot(airbnb_data_processed['price'])"
      ],
      "execution_count": 14,
      "outputs": [
        {
          "output_type": "execute_result",
          "data": {
            "text/plain": [
              "<matplotlib.axes._subplots.AxesSubplot at 0x7f9b71739e48>"
            ]
          },
          "metadata": {
            "tags": []
          },
          "execution_count": 14
        },
        {
          "output_type": "display_data",
          "data": {
            "image/png": "[encoded data removed]",
            "text/plain": [
              "<Figure size 720x360 with 1 Axes>"
            ]
          },
          "metadata": {
            "tags": []
          }
        }
      ]
    },
    {
      "cell_type": "markdown",
      "metadata": {
        "id": "abhff8k9_ela",
        "colab_type": "text"
      },
      "source": [
        "**The above plot shows that the price distribution is highly skewed \n",
        "because of which the price prediction was getting highly affected. So, we will normalize it by taking the log of price and update the dataset with that value.**"
      ]
    },
    {
      "cell_type": "code",
      "metadata": {
        "id": "fmtffCaI_nej",
        "colab_type": "code",
        "outputId": "2cdc41ce-1a6b-49d8-f3bd-95c5bf1cc1de",
        "colab": {
          "base_uri": "https://localhost:8080/",
          "height": 351
        }
      },
      "source": [
        "# Add log normalized price to the dataset.\n",
        "airbnb_data_processed['price'] = np.log1p(airbnb_data_processed['price'])\n",
        "plt.figure(figsize=(10,5))\n",
        "# Plot the distribution again. We observe that the distribution is very close to normal \n",
        "# distribution and this should improve our prediction model now.\n",
        "sns.distplot(airbnb_data_processed['price'])"
      ],
      "execution_count": 15,
      "outputs": [
        {
          "output_type": "execute_result",
          "data": {
            "text/plain": [
              "<matplotlib.axes._subplots.AxesSubplot at 0x7f9b6a40f668>"
            ]
          },
          "metadata": {
            "tags": []
          },
          "execution_count": 15
        },
        {
          "output_type": "display_data",
          "data": {
            "image/png": "[encoded data removed]",
            "text/plain": [
              "<Figure size 720x360 with 1 Axes>"
            ]
          },
          "metadata": {
            "tags": []
          }
        }
      ]
    },
    {
      "cell_type": "markdown",
      "metadata": {
        "id": "AfPRXisaAVK1",
        "colab_type": "text"
      },
      "source": [
        "**13. Get the target variable 'price' from the dataset.**"
      ]
    },
    {
      "cell_type": "code",
      "metadata": {
        "id": "9EYHQP9m_8zF",
        "colab_type": "code",
        "outputId": "2252f139-f998-4402-9426-2a7e9dd27aba",
        "colab": {
          "base_uri": "https://localhost:8080/",
          "height": 294
        }
      },
      "source": [
        "target_y = airbnb_data_processed['price']\n",
        "airbnb_data_processed_final = airbnb_data_processed.drop(['price'], axis=1)\n",
        "airbnb_data_processed_final.head()"
      ],
      "execution_count": 16,
      "outputs": [
        {
          "output_type": "execute_result",
          "data": {
            "text/html": [
              "<div>\n",
              "<style scoped>\n",
              "    .dataframe tbody tr th:only-of-type {\n",
              "        vertical-align: middle;\n",
              "    }\n",
              "\n",
              "    .dataframe tbody tr th {\n",
              "        vertical-align: top;\n",
              "    }\n",
              "\n",
              "    .dataframe thead th {\n",
              "        text-align: right;\n",
              "    }\n",
              "</style>\n",
              "<table border=\"1\" class=\"dataframe\">\n",
              "  <thead>\n",
              "    <tr style=\"text-align: right;\">\n",
              "      <th></th>\n",
              "      <th>latitude</th>\n",
              "      <th>longitude</th>\n",
              "      <th>minimum_nights</th>\n",
              "      <th>number_of_reviews</th>\n",
              "      <th>reviews_per_month</th>\n",
              "      <th>calculated_host_listings_count</th>\n",
              "      <th>availability_365</th>\n",
              "      <th>category_Bronx</th>\n",
              "      <th>category_Brooklyn</th>\n",
              "      <th>category_Manhattan</th>\n",
              "      <th>category_Queens</th>\n",
              "      <th>category_Staten Island</th>\n",
              "      <th>category_Allerton</th>\n",
              "      <th>category_Arden Heights</th>\n",
              "      <th>category_Arrochar</th>\n",
              "      <th>category_Arverne</th>\n",
              "      <th>category_Astoria</th>\n",
              "      <th>category_Bath Beach</th>\n",
              "      <th>category_Battery Park City</th>\n",
              "      <th>category_Bay Ridge</th>\n",
              "      <th>category_Bay Terrace</th>\n",
              "      <th>category_Bay Terrace, Staten Island</th>\n",
              "      <th>category_Baychester</th>\n",
              "      <th>category_Bayside</th>\n",
              "      <th>category_Bayswater</th>\n",
              "      <th>category_Bedford-Stuyvesant</th>\n",
              "      <th>category_Belle Harbor</th>\n",
              "      <th>category_Bellerose</th>\n",
              "      <th>category_Belmont</th>\n",
              "      <th>category_Bensonhurst</th>\n",
              "      <th>category_Bergen Beach</th>\n",
              "      <th>category_Boerum Hill</th>\n",
              "      <th>category_Borough Park</th>\n",
              "      <th>category_Breezy Point</th>\n",
              "      <th>category_Briarwood</th>\n",
              "      <th>category_Brighton Beach</th>\n",
              "      <th>category_Bronxdale</th>\n",
              "      <th>category_Brooklyn Heights</th>\n",
              "      <th>category_Brownsville</th>\n",
              "      <th>category_Bull's Head</th>\n",
              "      <th>...</th>\n",
              "      <th>category_Spuyten Duyvil</th>\n",
              "      <th>category_St. Albans</th>\n",
              "      <th>category_St. George</th>\n",
              "      <th>category_Stapleton</th>\n",
              "      <th>category_Stuyvesant Town</th>\n",
              "      <th>category_Sunnyside</th>\n",
              "      <th>category_Sunset Park</th>\n",
              "      <th>category_Theater District</th>\n",
              "      <th>category_Throgs Neck</th>\n",
              "      <th>category_Todt Hill</th>\n",
              "      <th>category_Tompkinsville</th>\n",
              "      <th>category_Tottenville</th>\n",
              "      <th>category_Tremont</th>\n",
              "      <th>category_Tribeca</th>\n",
              "      <th>category_Two Bridges</th>\n",
              "      <th>category_Unionport</th>\n",
              "      <th>category_University Heights</th>\n",
              "      <th>category_Upper East Side</th>\n",
              "      <th>category_Upper West Side</th>\n",
              "      <th>category_Van Nest</th>\n",
              "      <th>category_Vinegar Hill</th>\n",
              "      <th>category_Wakefield</th>\n",
              "      <th>category_Washington Heights</th>\n",
              "      <th>category_West Brighton</th>\n",
              "      <th>category_West Farms</th>\n",
              "      <th>category_West Village</th>\n",
              "      <th>category_Westchester Square</th>\n",
              "      <th>category_Westerleigh</th>\n",
              "      <th>category_Whitestone</th>\n",
              "      <th>category_Williamsbridge</th>\n",
              "      <th>category_Williamsburg</th>\n",
              "      <th>category_Willowbrook</th>\n",
              "      <th>category_Windsor Terrace</th>\n",
              "      <th>category_Woodhaven</th>\n",
              "      <th>category_Woodlawn</th>\n",
              "      <th>category_Woodrow</th>\n",
              "      <th>category_Woodside</th>\n",
              "      <th>category_Entire home/apt</th>\n",
              "      <th>category_Private room</th>\n",
              "      <th>category_Shared room</th>\n",
              "    </tr>\n",
              "  </thead>\n",
              "  <tbody>\n",
              "    <tr>\n",
              "      <th>0</th>\n",
              "      <td>40.64749</td>\n",
              "      <td>-73.97237</td>\n",
              "      <td>1</td>\n",
              "      <td>9</td>\n",
              "      <td>0.21</td>\n",
              "      <td>6</td>\n",
              "      <td>365</td>\n",
              "      <td>0</td>\n",
              "      <td>1</td>\n",
              "      <td>0</td>\n",
              "      <td>0</td>\n",
              "      <td>0</td>\n",
              "      <td>0</td>\n",
              "      <td>0</td>\n",
              "      <td>0</td>\n",
              "      <td>0</td>\n",
              "      <td>0</td>\n",
              "      <td>0</td>\n",
              "      <td>0</td>\n",
              "      <td>0</td>\n",
              "      <td>0</td>\n",
              "      <td>0</td>\n",
              "      <td>0</td>\n",
              "      <td>0</td>\n",
              "      <td>0</td>\n",
              "      <td>0</td>\n",
              "      <td>0</td>\n",
              "      <td>0</td>\n",
              "      <td>0</td>\n",
              "      <td>0</td>\n",
              "      <td>0</td>\n",
              "      <td>0</td>\n",
              "      <td>0</td>\n",
              "      <td>0</td>\n",
              "      <td>0</td>\n",
              "      <td>0</td>\n",
              "      <td>0</td>\n",
              "      <td>0</td>\n",
              "      <td>0</td>\n",
              "      <td>0</td>\n",
              "      <td>...</td>\n",
              "      <td>0</td>\n",
              "      <td>0</td>\n",
              "      <td>0</td>\n",
              "      <td>0</td>\n",
              "      <td>0</td>\n",
              "      <td>0</td>\n",
              "      <td>0</td>\n",
              "      <td>0</td>\n",
              "      <td>0</td>\n",
              "      <td>0</td>\n",
              "      <td>0</td>\n",
              "      <td>0</td>\n",
              "      <td>0</td>\n",
              "      <td>0</td>\n",
              "      <td>0</td>\n",
              "      <td>0</td>\n",
              "      <td>0</td>\n",
              "      <td>0</td>\n",
              "      <td>0</td>\n",
              "      <td>0</td>\n",
              "      <td>0</td>\n",
              "      <td>0</td>\n",
              "      <td>0</td>\n",
              "      <td>0</td>\n",
              "      <td>0</td>\n",
              "      <td>0</td>\n",
              "      <td>0</td>\n",
              "      <td>0</td>\n",
              "      <td>0</td>\n",
              "      <td>0</td>\n",
              "      <td>0</td>\n",
              "      <td>0</td>\n",
              "      <td>0</td>\n",
              "      <td>0</td>\n",
              "      <td>0</td>\n",
              "      <td>0</td>\n",
              "      <td>0</td>\n",
              "      <td>0</td>\n",
              "      <td>1</td>\n",
              "      <td>0</td>\n",
              "    </tr>\n",
              "    <tr>\n",
              "      <th>1</th>\n",
              "      <td>40.75362</td>\n",
              "      <td>-73.98377</td>\n",
              "      <td>1</td>\n",
              "      <td>45</td>\n",
              "      <td>0.38</td>\n",
              "      <td>2</td>\n",
              "      <td>355</td>\n",
              "      <td>0</td>\n",
              "      <td>0</td>\n",
              "      <td>1</td>\n",
              "      <td>0</td>\n",
              "      <td>0</td>\n",
              "      <td>0</td>\n",
              "      <td>0</td>\n",
              "      <td>0</td>\n",
              "      <td>0</td>\n",
              "      <td>0</td>\n",
              "      <td>0</td>\n",
              "      <td>0</td>\n",
              "      <td>0</td>\n",
              "      <td>0</td>\n",
              "      <td>0</td>\n",
              "      <td>0</td>\n",
              "      <td>0</td>\n",
              "      <td>0</td>\n",
              "      <td>0</td>\n",
              "      <td>0</td>\n",
              "      <td>0</td>\n",
              "      <td>0</td>\n",
              "      <td>0</td>\n",
              "      <td>0</td>\n",
              "      <td>0</td>\n",
              "      <td>0</td>\n",
              "      <td>0</td>\n",
              "      <td>0</td>\n",
              "      <td>0</td>\n",
              "      <td>0</td>\n",
              "      <td>0</td>\n",
              "      <td>0</td>\n",
              "      <td>0</td>\n",
              "      <td>...</td>\n",
              "      <td>0</td>\n",
              "      <td>0</td>\n",
              "      <td>0</td>\n",
              "      <td>0</td>\n",
              "      <td>0</td>\n",
              "      <td>0</td>\n",
              "      <td>0</td>\n",
              "      <td>0</td>\n",
              "      <td>0</td>\n",
              "      <td>0</td>\n",
              "      <td>0</td>\n",
              "      <td>0</td>\n",
              "      <td>0</td>\n",
              "      <td>0</td>\n",
              "      <td>0</td>\n",
              "      <td>0</td>\n",
              "      <td>0</td>\n",
              "      <td>0</td>\n",
              "      <td>0</td>\n",
              "      <td>0</td>\n",
              "      <td>0</td>\n",
              "      <td>0</td>\n",
              "      <td>0</td>\n",
              "      <td>0</td>\n",
              "      <td>0</td>\n",
              "      <td>0</td>\n",
              "      <td>0</td>\n",
              "      <td>0</td>\n",
              "      <td>0</td>\n",
              "      <td>0</td>\n",
              "      <td>0</td>\n",
              "      <td>0</td>\n",
              "      <td>0</td>\n",
              "      <td>0</td>\n",
              "      <td>0</td>\n",
              "      <td>0</td>\n",
              "      <td>0</td>\n",
              "      <td>1</td>\n",
              "      <td>0</td>\n",
              "      <td>0</td>\n",
              "    </tr>\n",
              "    <tr>\n",
              "      <th>2</th>\n",
              "      <td>40.80902</td>\n",
              "      <td>-73.94190</td>\n",
              "      <td>3</td>\n",
              "      <td>0</td>\n",
              "      <td>0.00</td>\n",
              "      <td>1</td>\n",
              "      <td>365</td>\n",
              "      <td>0</td>\n",
              "      <td>0</td>\n",
              "      <td>1</td>\n",
              "      <td>0</td>\n",
              "      <td>0</td>\n",
              "      <td>0</td>\n",
              "      <td>0</td>\n",
              "      <td>0</td>\n",
              "      <td>0</td>\n",
              "      <td>0</td>\n",
              "      <td>0</td>\n",
              "      <td>0</td>\n",
              "      <td>0</td>\n",
              "      <td>0</td>\n",
              "      <td>0</td>\n",
              "      <td>0</td>\n",
              "      <td>0</td>\n",
              "      <td>0</td>\n",
              "      <td>0</td>\n",
              "      <td>0</td>\n",
              "      <td>0</td>\n",
              "      <td>0</td>\n",
              "      <td>0</td>\n",
              "      <td>0</td>\n",
              "      <td>0</td>\n",
              "      <td>0</td>\n",
              "      <td>0</td>\n",
              "      <td>0</td>\n",
              "      <td>0</td>\n",
              "      <td>0</td>\n",
              "      <td>0</td>\n",
              "      <td>0</td>\n",
              "      <td>0</td>\n",
              "      <td>...</td>\n",
              "      <td>0</td>\n",
              "      <td>0</td>\n",
              "      <td>0</td>\n",
              "      <td>0</td>\n",
              "      <td>0</td>\n",
              "      <td>0</td>\n",
              "      <td>0</td>\n",
              "      <td>0</td>\n",
              "      <td>0</td>\n",
              "      <td>0</td>\n",
              "      <td>0</td>\n",
              "      <td>0</td>\n",
              "      <td>0</td>\n",
              "      <td>0</td>\n",
              "      <td>0</td>\n",
              "      <td>0</td>\n",
              "      <td>0</td>\n",
              "      <td>0</td>\n",
              "      <td>0</td>\n",
              "      <td>0</td>\n",
              "      <td>0</td>\n",
              "      <td>0</td>\n",
              "      <td>0</td>\n",
              "      <td>0</td>\n",
              "      <td>0</td>\n",
              "      <td>0</td>\n",
              "      <td>0</td>\n",
              "      <td>0</td>\n",
              "      <td>0</td>\n",
              "      <td>0</td>\n",
              "      <td>0</td>\n",
              "      <td>0</td>\n",
              "      <td>0</td>\n",
              "      <td>0</td>\n",
              "      <td>0</td>\n",
              "      <td>0</td>\n",
              "      <td>0</td>\n",
              "      <td>0</td>\n",
              "      <td>1</td>\n",
              "      <td>0</td>\n",
              "    </tr>\n",
              "    <tr>\n",
              "      <th>3</th>\n",
              "      <td>40.68514</td>\n",
              "      <td>-73.95976</td>\n",
              "      <td>1</td>\n",
              "      <td>270</td>\n",
              "      <td>4.64</td>\n",
              "      <td>1</td>\n",
              "      <td>194</td>\n",
              "      <td>0</td>\n",
              "      <td>1</td>\n",
              "      <td>0</td>\n",
              "      <td>0</td>\n",
              "      <td>0</td>\n",
              "      <td>0</td>\n",
              "      <td>0</td>\n",
              "      <td>0</td>\n",
              "      <td>0</td>\n",
              "      <td>0</td>\n",
              "      <td>0</td>\n",
              "      <td>0</td>\n",
              "      <td>0</td>\n",
              "      <td>0</td>\n",
              "      <td>0</td>\n",
              "      <td>0</td>\n",
              "      <td>0</td>\n",
              "      <td>0</td>\n",
              "      <td>0</td>\n",
              "      <td>0</td>\n",
              "      <td>0</td>\n",
              "      <td>0</td>\n",
              "      <td>0</td>\n",
              "      <td>0</td>\n",
              "      <td>0</td>\n",
              "      <td>0</td>\n",
              "      <td>0</td>\n",
              "      <td>0</td>\n",
              "      <td>0</td>\n",
              "      <td>0</td>\n",
              "      <td>0</td>\n",
              "      <td>0</td>\n",
              "      <td>0</td>\n",
              "      <td>...</td>\n",
              "      <td>0</td>\n",
              "      <td>0</td>\n",
              "      <td>0</td>\n",
              "      <td>0</td>\n",
              "      <td>0</td>\n",
              "      <td>0</td>\n",
              "      <td>0</td>\n",
              "      <td>0</td>\n",
              "      <td>0</td>\n",
              "      <td>0</td>\n",
              "      <td>0</td>\n",
              "      <td>0</td>\n",
              "      <td>0</td>\n",
              "      <td>0</td>\n",
              "      <td>0</td>\n",
              "      <td>0</td>\n",
              "      <td>0</td>\n",
              "      <td>0</td>\n",
              "      <td>0</td>\n",
              "      <td>0</td>\n",
              "      <td>0</td>\n",
              "      <td>0</td>\n",
              "      <td>0</td>\n",
              "      <td>0</td>\n",
              "      <td>0</td>\n",
              "      <td>0</td>\n",
              "      <td>0</td>\n",
              "      <td>0</td>\n",
              "      <td>0</td>\n",
              "      <td>0</td>\n",
              "      <td>0</td>\n",
              "      <td>0</td>\n",
              "      <td>0</td>\n",
              "      <td>0</td>\n",
              "      <td>0</td>\n",
              "      <td>0</td>\n",
              "      <td>0</td>\n",
              "      <td>1</td>\n",
              "      <td>0</td>\n",
              "      <td>0</td>\n",
              "    </tr>\n",
              "    <tr>\n",
              "      <th>4</th>\n",
              "      <td>40.79851</td>\n",
              "      <td>-73.94399</td>\n",
              "      <td>10</td>\n",
              "      <td>9</td>\n",
              "      <td>0.10</td>\n",
              "      <td>1</td>\n",
              "      <td>0</td>\n",
              "      <td>0</td>\n",
              "      <td>0</td>\n",
              "      <td>1</td>\n",
              "      <td>0</td>\n",
              "      <td>0</td>\n",
              "      <td>0</td>\n",
              "      <td>0</td>\n",
              "      <td>0</td>\n",
              "      <td>0</td>\n",
              "      <td>0</td>\n",
              "      <td>0</td>\n",
              "      <td>0</td>\n",
              "      <td>0</td>\n",
              "      <td>0</td>\n",
              "      <td>0</td>\n",
              "      <td>0</td>\n",
              "      <td>0</td>\n",
              "      <td>0</td>\n",
              "      <td>0</td>\n",
              "      <td>0</td>\n",
              "      <td>0</td>\n",
              "      <td>0</td>\n",
              "      <td>0</td>\n",
              "      <td>0</td>\n",
              "      <td>0</td>\n",
              "      <td>0</td>\n",
              "      <td>0</td>\n",
              "      <td>0</td>\n",
              "      <td>0</td>\n",
              "      <td>0</td>\n",
              "      <td>0</td>\n",
              "      <td>0</td>\n",
              "      <td>0</td>\n",
              "      <td>...</td>\n",
              "      <td>0</td>\n",
              "      <td>0</td>\n",
              "      <td>0</td>\n",
              "      <td>0</td>\n",
              "      <td>0</td>\n",
              "      <td>0</td>\n",
              "      <td>0</td>\n",
              "      <td>0</td>\n",
              "      <td>0</td>\n",
              "      <td>0</td>\n",
              "      <td>0</td>\n",
              "      <td>0</td>\n",
              "      <td>0</td>\n",
              "      <td>0</td>\n",
              "      <td>0</td>\n",
              "      <td>0</td>\n",
              "      <td>0</td>\n",
              "      <td>0</td>\n",
              "      <td>0</td>\n",
              "      <td>0</td>\n",
              "      <td>0</td>\n",
              "      <td>0</td>\n",
              "      <td>0</td>\n",
              "      <td>0</td>\n",
              "      <td>0</td>\n",
              "      <td>0</td>\n",
              "      <td>0</td>\n",
              "      <td>0</td>\n",
              "      <td>0</td>\n",
              "      <td>0</td>\n",
              "      <td>0</td>\n",
              "      <td>0</td>\n",
              "      <td>0</td>\n",
              "      <td>0</td>\n",
              "      <td>0</td>\n",
              "      <td>0</td>\n",
              "      <td>0</td>\n",
              "      <td>1</td>\n",
              "      <td>0</td>\n",
              "      <td>0</td>\n",
              "    </tr>\n",
              "  </tbody>\n",
              "</table>\n",
              "<p>5 rows × 236 columns</p>\n",
              "</div>"
            ],
            "text/plain": [
              "   latitude  longitude  ...  category_Private room  category_Shared room\n",
              "0  40.64749  -73.97237  ...                      1                     0\n",
              "1  40.75362  -73.98377  ...                      0                     0\n",
              "2  40.80902  -73.94190  ...                      1                     0\n",
              "3  40.68514  -73.95976  ...                      0                     0\n",
              "4  40.79851  -73.94399  ...                      0                     0\n",
              "\n",
              "[5 rows x 236 columns]"
            ]
          },
          "metadata": {
            "tags": []
          },
          "execution_count": 16
        }
      ]
    },
    {
      "cell_type": "markdown",
      "metadata": {
        "id": "UDjaQxcoCz3T",
        "colab_type": "text"
      },
      "source": [
        "**Now that we have normalized the price feature, we can rerun the algorithms with the normalized dataset and evaluate the performance.**\n",
        "\n",
        "**Note - Similar log transformation could be applied to any numerical feature. Here we are doing it only for the 'price' feature**"
      ]
    },
    {
      "cell_type": "markdown",
      "metadata": {
        "id": "bSEaKm2UHxLQ",
        "colab_type": "text"
      },
      "source": [
        "* **A note on splitting the data into training/testing datasets and feature scaling -**\n",
        "\n",
        "> 1) For every model we built, we randomly split the dataset into training and testing datasets. 80% is used for training and 20% is used for testing.\n",
        "\n",
        "> 2) After we split the data into we scale the features using sklearn's ***MinMaxScaler*** to get all the features on the same scale.\n",
        "\n",
        "> 3) Also, for each model we perform 10-fold cross validation (5-fold in case of the neural network model) and calculate the cross validation score. This score will be later used for comparison between the models. The cross validation module uses the ***negative mean squared error*** as the scoring metric."
      ]
    },
    {
      "cell_type": "markdown",
      "metadata": {
        "id": "hfjwX1Yz_SqW",
        "colab_type": "text"
      },
      "source": [
        "**14. Ridge Regression**"
      ]
    },
    {
      "cell_type": "code",
      "metadata": {
        "id": "MPEfjnzxAA7L",
        "colab_type": "code",
        "outputId": "f1a1726d-d213-4035-c69a-d0f19895c4ff",
        "colab": {
          "base_uri": "https://localhost:8080/",
          "height": 84
        }
      },
      "source": [
        "# Ridge regression\n",
        "from sklearn.preprocessing import MinMaxScaler\n",
        "from sklearn.model_selection import train_test_split, KFold, cross_val_score\n",
        "from sklearn import metrics\n",
        "from sklearn.linear_model import Ridge, Lasso\n",
        "\n",
        "X_features = airbnb_data_processed_final.columns\n",
        "scaler = MinMaxScaler()\n",
        "airbnb_data_processed_final_copy = airbnb_data_processed_final.copy()\n",
        "X_train, X_test, y_train, y_test = train_test_split(airbnb_data_processed_final_copy[X_features], target_y, test_size=0.2, random_state = 0)\n",
        "\n",
        "X_train = scaler.fit_transform(X_train)\n",
        "X_test = scaler.fit_transform(X_test)\n",
        "\n",
        "model = Ridge(alpha=0.01, fit_intercept=True, random_state=0)\n",
        "model.fit(X_train, y_train)\n",
        "\n",
        "Y_pred = model.predict(X_test)\n",
        "\n",
        "mae_ridge = metrics.mean_absolute_error(y_test, Y_pred)\n",
        "rmse_ridge = np.sqrt(metrics.mean_squared_error(y_test, Y_pred))\n",
        "r2_ridge = metrics.r2_score(y_test, Y_pred)\n",
        "print(\"Mean Absolute Error: \", mae_ridge)\n",
        "\n",
        "print(\"Root Mean Squared Error: \", rmse_ridge)\n",
        "print(\"R2 score: \", r2_ridge)\n",
        "\n",
        "# Use 10-fold cross validation and calculate cross-validation score.\n",
        "airbnb_data_processed_final_copy_1 = airbnb_data_processed_final.copy()\n",
        "X = airbnb_data_processed_final_copy_1[X_features]\n",
        "X = scaler.fit_transform(X)\n",
        "cross_val_score_ridge = -cross_val_score(model, X, target_y, scoring='neg_mean_squared_error', cv=10).mean()\n",
        "print(\"Cross validation score: \", cross_val_score_ridge)"
      ],
      "execution_count": 17,
      "outputs": [
        {
          "output_type": "stream",
          "text": [
            "Mean Absolute Error:  0.33643267654382425\n",
            "Root Mean Squared Error:  0.4757807742592879\n",
            "R2 score:  0.5399202136380918\n",
            "Cross validation score:  0.22713186119315676\n"
          ],
          "name": "stdout"
        }
      ]
    },
    {
      "cell_type": "markdown",
      "metadata": {
        "id": "Xaa1GgJEBlKn",
        "colab_type": "text"
      },
      "source": [
        "**16. Random Forest**"
      ]
    },
    {
      "cell_type": "code",
      "metadata": {
        "id": "1AbNZ5KQAqdp",
        "colab_type": "code",
        "outputId": "79ba489a-8925-4a4f-bc78-ca785896494b",
        "colab": {
          "base_uri": "https://localhost:8080/",
          "height": 84
        }
      },
      "source": [
        "# Random forest.\n",
        "from sklearn.ensemble import RandomForestRegressor\n",
        "X_features = airbnb_data_processed_final.columns\n",
        "scaler = MinMaxScaler()\n",
        "airbnb_data_processed_final_copy = airbnb_data_processed_final.copy()\n",
        "X_train, X_test, y_train, y_test = train_test_split(airbnb_data_processed_final_copy[X_features], target_y, test_size=0.2, random_state = 0)\n",
        "X_train = scaler.fit_transform(X_train)\n",
        "X_test = scaler.fit_transform(X_test)\n",
        "\n",
        "model = RandomForestRegressor(n_estimators= 200, max_depth=30, random_state=0)\n",
        "model.fit(X_train, y_train)\n",
        "Y_pred = model.predict(X_test)\n",
        "mae_rf = metrics.mean_absolute_error(y_test, Y_pred)\n",
        "rmse_rf = np.sqrt(metrics.mean_squared_error(y_test, Y_pred))\n",
        "r2_rf = metrics.r2_score(y_test, Y_pred)\n",
        "print(\"Mean Absolute Error: \", mae_rf)\n",
        "\n",
        "print(\"Root Mean Squared Error: \", rmse_rf)\n",
        "print(\"R2 score: \", r2_rf)\n",
        "\n",
        "# Use 10-fold cross validation and calculate cross-validation score.\n",
        "airbnb_data_processed_final_copy_1 = airbnb_data_processed_final.copy()\n",
        "X = airbnb_data_processed_final_copy_1[X_features]\n",
        "X = scaler.fit_transform(X)\n",
        "\n",
        "cross_val_score_rf = -cross_val_score(model, X, target_y, scoring='neg_mean_squared_error', cv=10).mean()\n",
        "print(\"Cross validation score: \", cross_val_score_rf)"
      ],
      "execution_count": 18,
      "outputs": [
        {
          "output_type": "stream",
          "text": [
            "Mean Absolute Error:  0.3295291608823585\n",
            "Root Mean Squared Error:  0.46348100580310453\n",
            "R2 score:  0.5634004769028155\n",
            "Cross validation score:  0.20931790863517205\n"
          ],
          "name": "stdout"
        }
      ]
    },
    {
      "cell_type": "markdown",
      "metadata": {
        "id": "X_sybMMtCemR",
        "colab_type": "text"
      },
      "source": [
        "**17. Gradient Boosting**\n",
        "\n",
        "> Default parameters are used.\n",
        "\n",
        "> Important parameters used:\n",
        "\n",
        ">> **1) n_estimators=100**\n",
        "\n",
        ">> **2) learning_rate=0.1**"
      ]
    },
    {
      "cell_type": "code",
      "metadata": {
        "id": "wK6_NoSPBADV",
        "colab_type": "code",
        "outputId": "a61e2944-afc5-4c04-ccb0-83c842d47e1f",
        "colab": {
          "base_uri": "https://localhost:8080/",
          "height": 84
        }
      },
      "source": [
        "# Gradient boosting.\n",
        "from sklearn.ensemble import GradientBoostingRegressor\n",
        "X_features = airbnb_data_processed_final.columns\n",
        "scaler = MinMaxScaler()\n",
        "airbnb_data_processed_final_copy = airbnb_data_processed_final.copy()\n",
        "X_train, X_test, y_train, y_test = train_test_split(airbnb_data_processed_final_copy[X_features], target_y, test_size=0.2, random_state = 0)\n",
        "X_train = scaler.fit_transform(X_train)\n",
        "X_test = scaler.fit_transform(X_test)\n",
        "\n",
        "# Using default parameters.\n",
        "model = GradientBoostingRegressor(random_state=0)\n",
        "model.fit(X_train, y_train)\n",
        "Y_pred = model.predict(X_test)\n",
        "\n",
        "mae_gbr = metrics.mean_absolute_error(y_test, Y_pred)\n",
        "rmse_gbr = np.sqrt(metrics.mean_squared_error(y_test, Y_pred))\n",
        "r2_gbr = metrics.r2_score(y_test, Y_pred)\n",
        "print(\"Mean Absolute Error: \", mae_gbr)\n",
        "\n",
        "print(\"Root Mean Squared Error: \", rmse_gbr)\n",
        "print(\"R2 score: \", r2_gbr)\n",
        "\n",
        "# Use 10-fold cross validation and calculate cross-validation score.\n",
        "airbnb_data_processed_final_copy_1 = airbnb_data_processed_final.copy()\n",
        "X = airbnb_data_processed_final_copy_1[X_features]\n",
        "X = scaler.fit_transform(X)\n",
        "cross_val_score_gbr = -cross_val_score(model, X, target_y, scoring='neg_mean_squared_error', cv=10).mean()\n",
        "print(\"Cross validation score: \", cross_val_score_gbr)"
      ],
      "execution_count": 20,
      "outputs": [
        {
          "output_type": "stream",
          "text": [
            "Mean Absolute Error:  0.3256081956597234\n",
            "Root Mean Squared Error:  0.4608113974199261\n",
            "R2 score:  0.5684155390184313\n",
            "Cross validation score:  0.2072618951755821\n"
          ],
          "name": "stdout"
        }
      ]
    },
    {
      "cell_type": "markdown",
      "metadata": {
        "id": "qKSIiFNjEtAw",
        "colab_type": "text"
      },
      "source": [
        "**18. XGBoost**"
      ]
    },
    {
      "cell_type": "code",
      "metadata": {
        "id": "i87KSpflBV7a",
        "colab_type": "code",
        "outputId": "85c14122-b266-4323-e57e-62c46caaf5cb",
        "colab": {
          "base_uri": "https://localhost:8080/",
          "height": 454
        }
      },
      "source": [
        "# XGBoost\n",
        "\n",
        "from xgboost import XGBRegressor\n",
        "from xgboost import cv\n",
        "\n",
        "X_features = airbnb_data_processed_final.columns\n",
        "scaler = MinMaxScaler()\n",
        "airbnb_data_processed_final_copy = airbnb_data_processed_final.copy()\n",
        "X_train, X_test, y_train, y_test = train_test_split(airbnb_data_processed_final_copy[X_features], target_y, test_size=0.2, random_state = 0)\n",
        "X_train = scaler.fit_transform(X_train)\n",
        "X_test = scaler.fit_transform(X_test)\n",
        "\n",
        "model = XGBRegressor(objective='reg:squarederror')\n",
        "model.fit(X_train, y_train)\n",
        "Y_pred = model.predict(X_test)\n",
        "\n",
        "mae_xgb = metrics.mean_absolute_error(y_test, Y_pred)\n",
        "rmse_xgb = np.sqrt(metrics.mean_squared_error(y_test, Y_pred))\n",
        "r2_xgb = metrics.r2_score(y_test, Y_pred)\n",
        "\n",
        "print(\"Mean Absolute Error: \", mae_xgb)\n",
        "\n",
        "print(\"Root Mean Squared Error: \", rmse_xgb)\n",
        "print(\"R2 score: \", r2_xgb)\n",
        "\n",
        "# Cross validation\n",
        "airbnb_data_processed_final_copy_1 = airbnb_data_processed_final.copy()\n",
        "X = airbnb_data_processed_final_copy_1[X_features]\n",
        "X = scaler.fit_transform(X)\n",
        "\n",
        "cross_val_score_xgb = -cross_val_score(model, X, target_y, scoring=\"neg_mean_squared_error\", cv=10).mean()\n",
        "print(\"Cross validation score: \", cross_val_score_xgb)"
      ],
      "execution_count": 21,
      "outputs": [
        {
          "output_type": "stream",
          "text": [
            "/usr/local/lib/python3.6/dist-packages/xgboost/core.py:587: FutureWarning: Series.base is deprecated and will be removed in a future version\n",
            "  if getattr(data, 'base', None) is not None and \\\n"
          ],
          "name": "stderr"
        },
        {
          "output_type": "stream",
          "text": [
            "Mean Absolute Error:  0.3246657309631296\n",
            "Root Mean Squared Error:  0.45996953537275215\n",
            "R2 score:  0.569991032548598\n"
          ],
          "name": "stdout"
        },
        {
          "output_type": "stream",
          "text": [
            "/usr/local/lib/python3.6/dist-packages/xgboost/core.py:587: FutureWarning: Series.base is deprecated and will be removed in a future version\n",
            "  if getattr(data, 'base', None) is not None and \\\n",
            "/usr/local/lib/python3.6/dist-packages/xgboost/core.py:587: FutureWarning: Series.base is deprecated and will be removed in a future version\n",
            "  if getattr(data, 'base', None) is not None and \\\n",
            "/usr/local/lib/python3.6/dist-packages/xgboost/core.py:587: FutureWarning: Series.base is deprecated and will be removed in a future version\n",
            "  if getattr(data, 'base', None) is not None and \\\n",
            "/usr/local/lib/python3.6/dist-packages/xgboost/core.py:587: FutureWarning: Series.base is deprecated and will be removed in a future version\n",
            "  if getattr(data, 'base', None) is not None and \\\n",
            "/usr/local/lib/python3.6/dist-packages/xgboost/core.py:587: FutureWarning: Series.base is deprecated and will be removed in a future version\n",
            "  if getattr(data, 'base', None) is not None and \\\n",
            "/usr/local/lib/python3.6/dist-packages/xgboost/core.py:587: FutureWarning: Series.base is deprecated and will be removed in a future version\n",
            "  if getattr(data, 'base', None) is not None and \\\n",
            "/usr/local/lib/python3.6/dist-packages/xgboost/core.py:587: FutureWarning: Series.base is deprecated and will be removed in a future version\n",
            "  if getattr(data, 'base', None) is not None and \\\n",
            "/usr/local/lib/python3.6/dist-packages/xgboost/core.py:587: FutureWarning: Series.base is deprecated and will be removed in a future version\n",
            "  if getattr(data, 'base', None) is not None and \\\n",
            "/usr/local/lib/python3.6/dist-packages/xgboost/core.py:587: FutureWarning: Series.base is deprecated and will be removed in a future version\n",
            "  if getattr(data, 'base', None) is not None and \\\n",
            "/usr/local/lib/python3.6/dist-packages/xgboost/core.py:587: FutureWarning: Series.base is deprecated and will be removed in a future version\n",
            "  if getattr(data, 'base', None) is not None and \\\n"
          ],
          "name": "stderr"
        },
        {
          "output_type": "stream",
          "text": [
            "Cross validation score:  0.20736010353408982\n"
          ],
          "name": "stdout"
        }
      ]
    },
    {
      "cell_type": "markdown",
      "metadata": {
        "id": "Q7r7BkZhGm4q",
        "colab_type": "text"
      },
      "source": [
        "**19. Neural Network**\n",
        "\n",
        "> ***3-layer neural network*** using the sklearn's ***MLPRegressor***. \n",
        "\n",
        ">So, our model has 1 input layer, 2 hidden layers (Each with 100 neurons) and 1 output layer. The ***'relu'*** activation function is used with ***'adam'*** optimizer to minimize the RMSE objective function.\n",
        "\n",
        "> We do not have enough data samples to build a deep network. However, we are able to get comparable results with a small 3-layer network.\n",
        "\n",
        "> We will perform a 5-fold cross validation and calculate the cross validation score."
      ]
    },
    {
      "cell_type": "code",
      "metadata": {
        "id": "2IeyLhaxBp3H",
        "colab_type": "code",
        "outputId": "8935da80-edcf-40fc-9bb4-89f2aa4a3a27",
        "colab": {
          "base_uri": "https://localhost:8080/",
          "height": 168
        }
      },
      "source": [
        "# Neural Network.\n",
        "from sklearn.neural_network import MLPRegressor\n",
        "from sklearn.preprocessing import MinMaxScaler\n",
        "from sklearn.model_selection import train_test_split, KFold, cross_val_score\n",
        "from sklearn import metrics\n",
        "\n",
        "X_features = airbnb_data_processed_final.columns\n",
        "scaler = MinMaxScaler()\n",
        "airbnb_data_processed_final_copy = airbnb_data_processed_final.copy()\n",
        "X_train, X_test, y_train, y_test = train_test_split(airbnb_data_processed_final_copy[X_features], target_y, test_size=0.2, random_state = 0)\n",
        "X_train = scaler.fit_transform(X_train)\n",
        "X_test = scaler.fit_transform(X_test)\n",
        "\n",
        "# build the neural network.\n",
        "model = MLPRegressor(hidden_layer_sizes=(100, 100), random_state=0, max_iter=1000)\n",
        "model.fit(X_train, y_train)\n",
        "\n",
        "Y_pred_train = model.predict(X_train)\n",
        "Y_pred = model.predict(X_test)\n",
        "\n",
        "# Evaluation on training data.\n",
        "print(\"Evaluation on training set.\")\n",
        "\n",
        "print(\"Mean Absolute Error: \", metrics.mean_absolute_error(y_train, Y_pred_train))\n",
        "print(\"Root Mean Squared Error: \", np.sqrt(metrics.mean_squared_error(y_train, Y_pred_train)))\n",
        "print(\"R2 score: \", metrics.r2_score(y_train, Y_pred_train))\n",
        "\n",
        "mae_nn = metrics.mean_absolute_error(y_test, Y_pred)\n",
        "rmse_nn = np.sqrt(metrics.mean_squared_error(y_test, Y_pred))\n",
        "r2_nn = metrics.r2_score(y_test, Y_pred)\n",
        "\n",
        "# Evaluation on test data.\n",
        "print(\"Evaluation on test set.\")\n",
        "\n",
        "print(\"Mean Absolute Error: \", mae_nn)\n",
        "print(\"Root Mean Squared Error: \", rmse_nn)\n",
        "print(\"R2 score: \", r2_nn)\n",
        "\n",
        "# Cross validation\n",
        "airbnb_data_processed_final_copy_1 = airbnb_data_processed_final.copy()\n",
        "X = airbnb_data_processed_final_copy_1[X_features]\n",
        "X = scaler.fit_transform(X)\n",
        "\n",
        "cross_val_score_nn = -cross_val_score(model, X, target_y, scoring=\"neg_mean_squared_error\", cv=5).mean()\n",
        "print(\"Cross validation score: \", cross_val_score_nn)"
      ],
      "execution_count": 22,
      "outputs": [
        {
          "output_type": "stream",
          "text": [
            "Evaluation on training set.\n",
            "Mean Absolute Error:  0.29176320273121126\n",
            "Root Mean Squared Error:  0.41462994788781143\n",
            "R2 score:  0.6428510497624398\n",
            "Evaluation on test set.\n",
            "Mean Absolute Error:  0.36139889141992093\n",
            "Root Mean Squared Error:  0.5079278263618822\n",
            "R2 score:  0.4756474464945478\n",
            "Cross validation score:  0.23890182469670762\n"
          ],
          "name": "stdout"
        }
      ]
    },
    {
      "cell_type": "markdown",
      "metadata": {
        "id": "2FYgaTkKKCHW",
        "colab_type": "text"
      },
      "source": [
        "**20. Model comparison**\n",
        "\n"
      ]
    },
    {
      "cell_type": "code",
      "metadata": {
        "id": "IE8qrWTobz0M",
        "colab_type": "code",
        "outputId": "eac7f4e1-94fe-4510-a4e8-d244a023532b",
        "colab": {
          "base_uri": "https://localhost:8080/",
          "height": 101
        }
      },
      "source": [
        "mae_list = [mae_rf, mae_gbr, mae_xgb, mae_nn]\n",
        "rmse_list = [rmse_rf, rmse_gbr, rmse_xgb, rmse_nn]\n",
        "r2_list = [r2_rf, r2_gbr, r2_xgb, r2_nn]\n",
        "\n",
        "cv_list = [cross_val_score_rf, cross_val_score_gbr, cross_val_score_xgb, cross_val_score_nn]\n",
        "models = ['Random Forest', 'Gradient Boosting', 'XGBoost', 'Neural Network']\n",
        "comparison_df = pd.DataFrame({'Algorithm': models, 'MAE': mae_list, 'RMSE': rmse_list, 'R2-score': r2_list, 'Cross validation score': cv_list})\n",
        "print(comparison_df)"
      ],
      "execution_count": 23,
      "outputs": [
        {
          "output_type": "stream",
          "text": [
            "           Algorithm       MAE      RMSE  R2-score  Cross validation score\n",
            "0      Random Forest  0.329529  0.463481  0.563400                0.209318\n",
            "1  Gradient Boosting  0.325608  0.460811  0.568416                0.207262\n",
            "2            XGBoost  0.324666  0.459970  0.569991                0.207360\n",
            "3     Neural Network  0.361399  0.507928  0.475647                0.238902\n"
          ],
          "name": "stdout"
        }
      ]
    },
    {
      "cell_type": "markdown",
      "metadata": {
        "id": "yeXyTglai_rh",
        "colab_type": "text"
      },
      "source": [
        "**The above result shows the comparison between the models using the metrics specified above.(MAE, RMSE, R2-score, Cross Validation Score)**\n",
        "\n",
        "\n",
        "**1) The results indicate that Gradient Boosting and XGBoost perform better than other algorithms based on the Cross Validation Score.** \n",
        "\n",
        "**Both the algorithms have a cross validation score ~ 0.207**\n",
        "\n",
        "**2) The 3-layer Neural Network we implemented has a cross validation score of 0.239.**"
      ]
    }
  ]
}