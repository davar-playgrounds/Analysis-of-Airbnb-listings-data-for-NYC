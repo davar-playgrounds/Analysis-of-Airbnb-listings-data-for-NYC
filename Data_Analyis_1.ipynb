{
  "nbformat": 4,
  "nbformat_minor": 0,
  "metadata": {
    "colab": {
      "name": "Data_Analyis_1.ipynb",
      "provenance": [],
      "collapsed_sections": []
    },
    "kernelspec": {
      "name": "python3",
      "display_name": "Python 3"
    }
  },
  "cells": [
    {
      "cell_type": "code",
      "metadata": {
        "id": "LdEtl6X4C6U_",
        "colab_type": "code",
        "colab": {}
      },
      "source": [
        "from google.colab import drive\n",
        "drive.mount('/content/drive')"
      ],
      "execution_count": 0,
      "outputs": []
    },
    {
      "cell_type": "code",
      "metadata": {
        "id": "tLE1bdBf1vlb",
        "colab_type": "code",
        "colab": {}
      },
      "source": [
        "!apt-get install openjdk-8-jdk-headless -qq > /dev/null\n",
        "!wget -q http://apache.osuosl.org/spark/spark-2.4.4/spark-2.4.4-bin-hadoop2.7.tgz\n",
        "!tar xf spark-2.4.4-bin-hadoop2.7.tgz\n",
        "!pip install -q findspark"
      ],
      "execution_count": 0,
      "outputs": []
    },
    {
      "cell_type": "markdown",
      "metadata": {
        "id": "KXw_htt7jJub",
        "colab_type": "text"
      },
      "source": [
        "Setup the environment variables"
      ]
    },
    {
      "cell_type": "code",
      "metadata": {
        "id": "01XuUHc7zqYi",
        "colab_type": "code",
        "colab": {}
      },
      "source": [
        "import os\n",
        "os.environ[\"JAVA_HOME\"] = \"/usr/lib/jvm/java-8-openjdk-amd64\"\n",
        "os.environ[\"SPARK_HOME\"] = \"/content/spark-2.4.4-bin-hadoop2.7\""
      ],
      "execution_count": 0,
      "outputs": []
    },
    {
      "cell_type": "code",
      "metadata": {
        "id": "RkaD-xVCzmAS",
        "colab_type": "code",
        "colab": {}
      },
      "source": [
        "!pip install pyspark"
      ],
      "execution_count": 0,
      "outputs": []
    },
    {
      "cell_type": "code",
      "metadata": {
        "id": "nefgCOpI0dB6",
        "colab_type": "code",
        "colab": {}
      },
      "source": [
        "import findspark\n",
        "findspark.init()\n",
        "from pyspark.sql import SparkSession\n",
        "from pyspark.sql import functions\n",
        "from pyspark.sql.functions import col, avg\n",
        "import seaborn as sns\n",
        "spark = SparkSession.builder.appName(\"CS543_Project\").master(\"local[*]\").getOrCreate()"
      ],
      "execution_count": 0,
      "outputs": []
    },
    {
      "cell_type": "code",
      "metadata": {
        "id": "ekK1Dyei2FFD",
        "colab_type": "code",
        "colab": {}
      },
      "source": [
        "file_loc = \"/content/drive/My Drive/Colab Notebooks/AB_NYC_2019.csv\"\n",
        "airbnb_schema = spark.read.csv(file_loc, inferSchema=True, header=True, multiLine=True, quote='\"', escape='\"')"
      ],
      "execution_count": 0,
      "outputs": []
    },
    {
      "cell_type": "code",
      "metadata": {
        "id": "kRh8AtHl2aK4",
        "colab_type": "code",
        "outputId": "2f5b38f9-4266-4f68-f124-745df9062bbd",
        "colab": {
          "base_uri": "https://localhost:8080/",
          "height": 490
        }
      },
      "source": [
        "airbnb_schema.show()\n",
        "print(\"Total number of records in the dataset - \", airbnb_schema.count())"
      ],
      "execution_count": 0,
      "outputs": [
        {
          "output_type": "stream",
          "text": [
            "+----+--------------------+-------+----------------+-------------------+------------------+--------+---------+---------------+-----+--------------+-----------------+-------------------+-----------------+------------------------------+----------------+\n",
            "|  id|                name|host_id|       host_name|neighbourhood_group|     neighbourhood|latitude|longitude|      room_type|price|minimum_nights|number_of_reviews|        last_review|reviews_per_month|calculated_host_listings_count|availability_365|\n",
            "+----+--------------------+-------+----------------+-------------------+------------------+--------+---------+---------------+-----+--------------+-----------------+-------------------+-----------------+------------------------------+----------------+\n",
            "|2539|Clean & quiet apt...|   2787|            John|           Brooklyn|        Kensington|40.64749|-73.97237|   Private room|  149|             1|                9|2018-10-19 00:00:00|             0.21|                             6|             365|\n",
            "|2595|Skylit Midtown Ca...|   2845|        Jennifer|          Manhattan|           Midtown|40.75362|-73.98377|Entire home/apt|  225|             1|               45|2019-05-21 00:00:00|             0.38|                             2|             355|\n",
            "|3647|THE VILLAGE OF HA...|   4632|       Elisabeth|          Manhattan|            Harlem|40.80902| -73.9419|   Private room|  150|             3|                0|               null|             null|                             1|             365|\n",
            "|3831|Cozy Entire Floor...|   4869|     LisaRoxanne|           Brooklyn|      Clinton Hill|40.68514|-73.95976|Entire home/apt|   89|             1|              270|2019-07-05 00:00:00|             4.64|                             1|             194|\n",
            "|5022|Entire Apt: Spaci...|   7192|           Laura|          Manhattan|       East Harlem|40.79851|-73.94399|Entire home/apt|   80|            10|                9|2018-11-19 00:00:00|              0.1|                             1|               0|\n",
            "|5099|Large Cozy 1 BR A...|   7322|           Chris|          Manhattan|       Murray Hill|40.74767|  -73.975|Entire home/apt|  200|             3|               74|2019-06-22 00:00:00|             0.59|                             1|             129|\n",
            "|5121|     BlissArtsSpace!|   7356|           Garon|           Brooklyn|Bedford-Stuyvesant|40.68688|-73.95596|   Private room|   60|            45|               49|2017-10-05 00:00:00|              0.4|                             1|               0|\n",
            "|5178|Large Furnished R...|   8967|        Shunichi|          Manhattan|    Hell's Kitchen|40.76489|-73.98493|   Private room|   79|             2|              430|2019-06-24 00:00:00|             3.47|                             1|             220|\n",
            "|5203|Cozy Clean Guest ...|   7490|       MaryEllen|          Manhattan|   Upper West Side|40.80178|-73.96723|   Private room|   79|             2|              118|2017-07-21 00:00:00|             0.99|                             1|               0|\n",
            "|5238|Cute & Cozy Lower...|   7549|             Ben|          Manhattan|         Chinatown|40.71344|-73.99037|Entire home/apt|  150|             1|              160|2019-06-09 00:00:00|             1.33|                             4|             188|\n",
            "|5295|Beautiful 1br on ...|   7702|            Lena|          Manhattan|   Upper West Side|40.80316|-73.96545|Entire home/apt|  135|             5|               53|2019-06-22 00:00:00|             0.43|                             1|               6|\n",
            "|5441|Central Manhattan...|   7989|            Kate|          Manhattan|    Hell's Kitchen|40.76076|-73.98867|   Private room|   85|             2|              188|2019-06-23 00:00:00|              1.5|                             1|              39|\n",
            "|5803|Lovely Room 1, Ga...|   9744|          Laurie|           Brooklyn|       South Slope|40.66829|-73.98779|   Private room|   89|             4|              167|2019-06-24 00:00:00|             1.34|                             3|             314|\n",
            "|6021|Wonderful Guest B...|  11528|         Claudio|          Manhattan|   Upper West Side|40.79826|-73.96113|   Private room|   85|             2|              113|2019-07-05 00:00:00|             0.91|                             1|             333|\n",
            "|6090|West Village Nest...|  11975|           Alina|          Manhattan|      West Village| 40.7353|-74.00525|Entire home/apt|  120|            90|               27|2018-10-31 00:00:00|             0.22|                             1|               0|\n",
            "|6848|Only 2 stops to M...|  15991|   Allen & Irina|           Brooklyn|      Williamsburg|40.70837|-73.95352|Entire home/apt|  140|             2|              148|2019-06-29 00:00:00|              1.2|                             1|              46|\n",
            "|7097|Perfect for Your ...|  17571|            Jane|           Brooklyn|       Fort Greene|40.69169|-73.97185|Entire home/apt|  215|             2|              198|2019-06-28 00:00:00|             1.72|                             1|             321|\n",
            "|7322|     Chelsea Perfect|  18946|            Doti|          Manhattan|           Chelsea|40.74192|-73.99501|   Private room|  140|             1|              260|2019-07-01 00:00:00|             2.12|                             1|              12|\n",
            "|7726|Hip Historic Brow...|  20950|Adam And Charity|           Brooklyn|     Crown Heights|40.67592|-73.94694|Entire home/apt|   99|             3|               53|2019-06-22 00:00:00|             4.44|                             1|              21|\n",
            "|7750|Huge 2 BR Upper E...|  17985|            Sing|          Manhattan|       East Harlem|40.79685|-73.94872|Entire home/apt|  190|             7|                0|               null|             null|                             2|             249|\n",
            "+----+--------------------+-------+----------------+-------------------+------------------+--------+---------+---------------+-----+--------------+-----------------+-------------------+-----------------+------------------------------+----------------+\n",
            "only showing top 20 rows\n",
            "\n",
            "Total number of records in the dataset -  48895\n"
          ],
          "name": "stdout"
        }
      ]
    },
    {
      "cell_type": "markdown",
      "metadata": {
        "id": "GtYIymq5LrwA",
        "colab_type": "text"
      },
      "source": [
        "**8. Print the dataset schema to understand the type of data we are dealing with.**"
      ]
    },
    {
      "cell_type": "code",
      "metadata": {
        "id": "hrlLScdlIt4B",
        "colab_type": "code",
        "outputId": "5cc21534-cb23-4d38-d125-e015b1828e22",
        "colab": {
          "base_uri": "https://localhost:8080/",
          "height": 319
        }
      },
      "source": [
        "airbnb_schema.printSchema()"
      ],
      "execution_count": 0,
      "outputs": [
        {
          "output_type": "stream",
          "text": [
            "root\n",
            " |-- id: integer (nullable = true)\n",
            " |-- name: string (nullable = true)\n",
            " |-- host_id: integer (nullable = true)\n",
            " |-- host_name: string (nullable = true)\n",
            " |-- neighbourhood_group: string (nullable = true)\n",
            " |-- neighbourhood: string (nullable = true)\n",
            " |-- latitude: double (nullable = true)\n",
            " |-- longitude: double (nullable = true)\n",
            " |-- room_type: string (nullable = true)\n",
            " |-- price: integer (nullable = true)\n",
            " |-- minimum_nights: integer (nullable = true)\n",
            " |-- number_of_reviews: integer (nullable = true)\n",
            " |-- last_review: timestamp (nullable = true)\n",
            " |-- reviews_per_month: double (nullable = true)\n",
            " |-- calculated_host_listings_count: integer (nullable = true)\n",
            " |-- availability_365: integer (nullable = true)\n",
            "\n"
          ],
          "name": "stdout"
        }
      ]
    },
    {
      "cell_type": "code",
      "metadata": {
        "id": "0QpdKiLFIxyq",
        "colab_type": "code",
        "outputId": "e347275d-fd9c-4340-9b7a-087d923e720b",
        "colab": {
          "base_uri": "https://localhost:8080/",
          "height": 302
        }
      },
      "source": [
        "# Check for count of null values in each column of the dataframe.\n",
        "print(\"Count of null values for each feature: \")\n",
        "for col in airbnb_schema.columns:\n",
        "  print(col, \": \", airbnb_schema.where(airbnb_schema[col].isNull()).count())"
      ],
      "execution_count": 0,
      "outputs": [
        {
          "output_type": "stream",
          "text": [
            "Count of null values for each feature: \n",
            "id :  0\n",
            "name :  16\n",
            "host_id :  0\n",
            "host_name :  21\n",
            "neighbourhood_group :  0\n",
            "neighbourhood :  0\n",
            "latitude :  0\n",
            "longitude :  0\n",
            "room_type :  0\n",
            "price :  0\n",
            "minimum_nights :  0\n",
            "number_of_reviews :  0\n",
            "last_review :  10052\n",
            "reviews_per_month :  10052\n",
            "calculated_host_listings_count :  0\n",
            "availability_365 :  0\n"
          ],
          "name": "stdout"
        }
      ]
    },
    {
      "cell_type": "markdown",
      "metadata": {
        "id": "fA5adqdtKMgd",
        "colab_type": "text"
      },
      "source": [
        "**We see that there are a lot of nulls by observing the first 20 rows of the dataset above. So, we checked the count of null values in each column of the dataset.**"
      ]
    },
    {
      "cell_type": "markdown",
      "metadata": {
        "id": "Dal1gJWWlt57",
        "colab_type": "text"
      },
      "source": [
        "**10. Drop some columns which are not important for analyzing the data.**"
      ]
    },
    {
      "cell_type": "code",
      "metadata": {
        "id": "j2XcU-rDYg0E",
        "colab_type": "code",
        "colab": {}
      },
      "source": [
        "airbnb_schema = airbnb_schema.drop(\"id\", \"host_name\", \"last_review\")"
      ],
      "execution_count": 0,
      "outputs": []
    },
    {
      "cell_type": "markdown",
      "metadata": {
        "id": "k35vQcrVlzIi",
        "colab_type": "text"
      },
      "source": [
        "**11. Clean the null values from review_per_month column . We will replace all the null values with zero as \"null\" reviews_per_month means there were 0 reviews.**"
      ]
    },
    {
      "cell_type": "code",
      "metadata": {
        "id": "-dfNMFn2StWL",
        "colab_type": "code",
        "outputId": "edabafc3-b5e4-4366-c56c-7025852d43d0",
        "colab": {
          "base_uri": "https://localhost:8080/",
          "height": 50
        }
      },
      "source": [
        "airbnb_schema = airbnb_schema.na.fill(0, [\"reviews_per_month\"])\n",
        "print(\"Number of nulls after cleanup in column 'reviews_per_month' - \")\n",
        "airbnb_schema.where(airbnb_schema['reviews_per_month'].isNull()).count()"
      ],
      "execution_count": 0,
      "outputs": [
        {
          "output_type": "stream",
          "text": [
            "Number of nulls after cleanup in column 'reviews_per_month' - \n"
          ],
          "name": "stdout"
        },
        {
          "output_type": "execute_result",
          "data": {
            "text/plain": [
              "0"
            ]
          },
          "metadata": {
            "tags": []
          },
          "execution_count": 11
        }
      ]
    },
    {
      "cell_type": "markdown",
      "metadata": {
        "id": "T-sZgP5XmLd9",
        "colab_type": "text"
      },
      "source": [
        "**12. Analyze the host id field.** \n",
        "\n",
        "Count the number of listings for each host ID.\n",
        "\n",
        "Sort the results in descending order, so we can see the top 20 hosts."
      ]
    },
    {
      "cell_type": "code",
      "metadata": {
        "id": "fxkRnHpJWFpt",
        "colab_type": "code",
        "outputId": "841f26d8-851c-4154-ae29-6882437044d8",
        "colab": {
          "base_uri": "https://localhost:8080/",
          "height": 454
        }
      },
      "source": [
        "host_id_schema = airbnb_schema.groupBy(airbnb_schema[\"host_id\"]).count()\n",
        "host_id_schema.orderBy(host_id_schema[\"count\"].desc()).show()"
      ],
      "execution_count": 0,
      "outputs": [
        {
          "output_type": "stream",
          "text": [
            "+---------+-----+\n",
            "|  host_id|count|\n",
            "+---------+-----+\n",
            "|219517861|  327|\n",
            "|107434423|  232|\n",
            "| 30283594|  121|\n",
            "|137358866|  103|\n",
            "| 16098958|   96|\n",
            "| 12243051|   96|\n",
            "| 61391963|   91|\n",
            "| 22541573|   87|\n",
            "|200380610|   65|\n",
            "|  7503643|   52|\n",
            "|  1475015|   52|\n",
            "|120762452|   50|\n",
            "|205031545|   49|\n",
            "|  2856748|   49|\n",
            "|190921808|   47|\n",
            "| 26377263|   43|\n",
            "|  2119276|   39|\n",
            "| 19303369|   37|\n",
            "| 25237492|   34|\n",
            "|119669058|   34|\n",
            "+---------+-----+\n",
            "only showing top 20 rows\n",
            "\n"
          ],
          "name": "stdout"
        }
      ]
    },
    {
      "cell_type": "markdown",
      "metadata": {
        "id": "zErCxG6tDJlR",
        "colab_type": "text"
      },
      "source": [
        "**The above analysis shows that the top host (host_id = 219517861) has 327 listings and also there is a good spread in the number of listings with each host.**\n",
        "\n",
        "**We can confirm this finding by checking the 'calculated_host_listings_count' column which has a maximum value of 327.**"
      ]
    },
    {
      "cell_type": "markdown",
      "metadata": {
        "id": "2gwFLUyRmmMB",
        "colab_type": "text"
      },
      "source": [
        "**13. Check the max value from calculated_host_listings_count column**"
      ]
    },
    {
      "cell_type": "code",
      "metadata": {
        "id": "9kUXttz_Xh2c",
        "colab_type": "code",
        "outputId": "b121ae2f-2bae-41da-fac2-1532e8bd6fdf",
        "colab": {
          "base_uri": "https://localhost:8080/",
          "height": 118
        }
      },
      "source": [
        "# Check the max value from calculated_host_listings_count column\n",
        "from pyspark.sql import functions as F\n",
        "airbnb_schema.agg(F.max(airbnb_schema[\"calculated_host_listings_count\"])).show()"
      ],
      "execution_count": 0,
      "outputs": [
        {
          "output_type": "stream",
          "text": [
            "+-----------------------------------+\n",
            "|max(calculated_host_listings_count)|\n",
            "+-----------------------------------+\n",
            "|                                327|\n",
            "+-----------------------------------+\n",
            "\n"
          ],
          "name": "stdout"
        }
      ]
    },
    {
      "cell_type": "markdown",
      "metadata": {
        "id": "C7_DHZFcMgkh",
        "colab_type": "text"
      },
      "source": [
        "**14. Counting the number of unique listings:**\n",
        "\n",
        "There are 47906 unique listings in the dataset."
      ]
    },
    {
      "cell_type": "code",
      "metadata": {
        "id": "Ok0iFRyvw_YZ",
        "colab_type": "code",
        "outputId": "b8de462c-fa2b-43e7-8c86-57a6b2b4647b",
        "colab": {
          "base_uri": "https://localhost:8080/",
          "height": 34
        }
      },
      "source": [
        "airbnb_schema.select(\"name\").distinct().count()"
      ],
      "execution_count": 0,
      "outputs": [
        {
          "output_type": "execute_result",
          "data": {
            "text/plain": [
              "47906"
            ]
          },
          "metadata": {
            "tags": []
          },
          "execution_count": 14
        }
      ]
    },
    {
      "cell_type": "markdown",
      "metadata": {
        "id": "w6xB4qlKyrU1",
        "colab_type": "text"
      },
      "source": [
        "**15. Distinct neighbourhood group count**"
      ]
    },
    {
      "cell_type": "code",
      "metadata": {
        "id": "DjrlDrD3kY-P",
        "colab_type": "code",
        "outputId": "31604071-ef17-4aa0-abe5-595d59e417be",
        "colab": {
          "base_uri": "https://localhost:8080/",
          "height": 34
        }
      },
      "source": [
        "airbnb_schema.select(\"neighbourhood_group\").distinct().count()"
      ],
      "execution_count": 0,
      "outputs": [
        {
          "output_type": "execute_result",
          "data": {
            "text/plain": [
              "5"
            ]
          },
          "metadata": {
            "tags": []
          },
          "execution_count": 15
        }
      ]
    },
    {
      "cell_type": "markdown",
      "metadata": {
        "id": "pOU4oJ9ry_cO",
        "colab_type": "text"
      },
      "source": [
        "**16. Distinct neighbourhood group**"
      ]
    },
    {
      "cell_type": "code",
      "metadata": {
        "id": "W5WoRy7Lypys",
        "colab_type": "code",
        "outputId": "54bb0053-c21a-46b1-b018-0a0160275769",
        "colab": {
          "base_uri": "https://localhost:8080/",
          "height": 185
        }
      },
      "source": [
        "neighbourhood_group_data = airbnb_schema.groupby(\"neighbourhood_group\").count()\n",
        "neighbourhood_group_data.show()"
      ],
      "execution_count": 0,
      "outputs": [
        {
          "output_type": "stream",
          "text": [
            "+-------------------+-----+\n",
            "|neighbourhood_group|count|\n",
            "+-------------------+-----+\n",
            "|             Queens| 5666|\n",
            "|           Brooklyn|20104|\n",
            "|      Staten Island|  373|\n",
            "|          Manhattan|21661|\n",
            "|              Bronx| 1091|\n",
            "+-------------------+-----+\n",
            "\n"
          ],
          "name": "stdout"
        }
      ]
    },
    {
      "cell_type": "markdown",
      "metadata": {
        "id": "WpzciL7xQEhV",
        "colab_type": "text"
      },
      "source": [
        "**17 Showing the above data as a pie chart to understand the division clearly.**"
      ]
    },
    {
      "cell_type": "code",
      "metadata": {
        "id": "r0A8kixUQWc6",
        "colab_type": "code",
        "outputId": "f75fb8ad-aef4-4e42-e7ec-20447f90b18f",
        "colab": {
          "base_uri": "https://localhost:8080/",
          "height": 373
        }
      },
      "source": [
        "import pandas as pd\n",
        "neighbourhood_group_data_pd = neighbourhood_group_data.toPandas()\n",
        "neighbourhood_group_data_pd.index = neighbourhood_group_data_pd['neighbourhood_group']\n",
        "plt = neighbourhood_group_data_pd.plot.pie(y='count', autopct='%1.1f%%', legend = False, title='Listings by Neighbourhood Groups', figsize=(16,6))\n"
      ],
      "execution_count": 0,
      "outputs": [
        {
          "output_type": "display_data",
          "data": {
            "image/png": "[encoded data removed]",
            "text/plain": [
              "<Figure size 1152x432 with 1 Axes>"
            ]
          },
          "metadata": {
            "tags": []
          }
        }
      ]
    },
    {
      "cell_type": "markdown",
      "metadata": {
        "id": "OqQV-RXEy9PU",
        "colab_type": "text"
      },
      "source": [
        "**18. Distinct neighbourhood count**"
      ]
    },
    {
      "cell_type": "code",
      "metadata": {
        "id": "pjOZQOzq0oUt",
        "colab_type": "code",
        "outputId": "dd2baae6-3b69-481b-c624-c61a63b6e00c",
        "colab": {
          "base_uri": "https://localhost:8080/",
          "height": 34
        }
      },
      "source": [
        "airbnb_schema.select(\"neighbourhood\").distinct().count()"
      ],
      "execution_count": 0,
      "outputs": [
        {
          "output_type": "execute_result",
          "data": {
            "text/plain": [
              "221"
            ]
          },
          "metadata": {
            "tags": []
          },
          "execution_count": 18
        }
      ]
    },
    {
      "cell_type": "markdown",
      "metadata": {
        "id": "tPP8Tk460kqK",
        "colab_type": "text"
      },
      "source": [
        "**19. Distinct neighbourhood**"
      ]
    },
    {
      "cell_type": "code",
      "metadata": {
        "id": "_JZ5BMyAyzuV",
        "colab_type": "code",
        "outputId": "c8d172b6-b019-443c-945a-97fe28600c73",
        "colab": {
          "base_uri": "https://localhost:8080/",
          "height": 454
        }
      },
      "source": [
        "airbnb_schema.groupby(\"neighbourhood\").count().show()"
      ],
      "execution_count": 0,
      "outputs": [
        {
          "output_type": "stream",
          "text": [
            "+------------------+-----+\n",
            "|     neighbourhood|count|\n",
            "+------------------+-----+\n",
            "|            Corona|   64|\n",
            "|      Richmondtown|    1|\n",
            "|      Prince's Bay|    4|\n",
            "|       Westerleigh|    2|\n",
            "|        Mill Basin|    4|\n",
            "|      Civic Center|   52|\n",
            "|        Douglaston|    8|\n",
            "|        Mount Hope|   20|\n",
            "|       Marble Hill|   12|\n",
            "|         Rego Park|  106|\n",
            "|     Dyker Heights|   12|\n",
            "| Kew Gardens Hills|   26|\n",
            "|      Dongan Hills|    7|\n",
            "|Financial District|  744|\n",
            "|       Bay Terrace|    6|\n",
            "|           Midtown| 1545|\n",
            "|   Jackson Heights|  186|\n",
            "|           Bayside|   39|\n",
            "|    Hell's Kitchen| 1958|\n",
            "|        Highbridge|   27|\n",
            "+------------------+-----+\n",
            "only showing top 20 rows\n",
            "\n"
          ],
          "name": "stdout"
        }
      ]
    },
    {
      "cell_type": "code",
      "metadata": {
        "id": "Fz8rWZb0Ws6f",
        "colab_type": "code",
        "outputId": "0a7e9685-9746-4b2a-c994-58e08e81addb",
        "colab": {
          "base_uri": "https://localhost:8080/",
          "height": 202
        }
      },
      "source": [
        "from pyspark.sql import functions\n",
        "from pyspark.sql.functions import col, avg\n",
        "airbnb_schema.groupby(\"neighbourhood\").count().sort(col(\"count\").desc()).show(5)"
      ],
      "execution_count": 0,
      "outputs": [
        {
          "output_type": "stream",
          "text": [
            "+------------------+-----+\n",
            "|     neighbourhood|count|\n",
            "+------------------+-----+\n",
            "|      Williamsburg| 3920|\n",
            "|Bedford-Stuyvesant| 3714|\n",
            "|            Harlem| 2658|\n",
            "|          Bushwick| 2465|\n",
            "|   Upper West Side| 1971|\n",
            "+------------------+-----+\n",
            "only showing top 5 rows\n",
            "\n"
          ],
          "name": "stdout"
        }
      ]
    },
    {
      "cell_type": "markdown",
      "metadata": {
        "id": "Up72D5Xi08p4",
        "colab_type": "text"
      },
      "source": [
        "**21. Analysis of availability of apartments.**"
      ]
    },
    {
      "cell_type": "code",
      "metadata": {
        "id": "HEQROHhEzIB8",
        "colab_type": "code",
        "outputId": "53857a24-808e-49c8-b889-7ab7983dd4ad",
        "colab": {
          "base_uri": "https://localhost:8080/",
          "height": 454
        }
      },
      "source": [
        "avail_df = airbnb_schema.groupby(\"availability_365\").count().sort(col(\"availability_365\").asc())\n",
        "avail_df.show()"
      ],
      "execution_count": 0,
      "outputs": [
        {
          "output_type": "stream",
          "text": [
            "+----------------+-----+\n",
            "|availability_365|count|\n",
            "+----------------+-----+\n",
            "|               0|17533|\n",
            "|               1|  408|\n",
            "|               2|  270|\n",
            "|               3|  306|\n",
            "|               4|  233|\n",
            "|               5|  340|\n",
            "|               6|  245|\n",
            "|               7|  219|\n",
            "|               8|  233|\n",
            "|               9|  193|\n",
            "|              10|  165|\n",
            "|              11|  173|\n",
            "|              12|  172|\n",
            "|              13|  162|\n",
            "|              14|  173|\n",
            "|              15|  159|\n",
            "|              16|  151|\n",
            "|              17|  130|\n",
            "|              18|  125|\n",
            "|              19|  135|\n",
            "+----------------+-----+\n",
            "only showing top 20 rows\n",
            "\n"
          ],
          "name": "stdout"
        }
      ]
    },
    {
      "cell_type": "markdown",
      "metadata": {
        "id": "sT3O-VjJrg--",
        "colab_type": "text"
      },
      "source": [
        "**22. Distinct host id**"
      ]
    },
    {
      "cell_type": "code",
      "metadata": {
        "id": "4-9odn-I1Eb3",
        "colab_type": "code",
        "outputId": "23af5b04-87a1-48b9-8535-b7dace534074",
        "colab": {
          "base_uri": "https://localhost:8080/",
          "height": 34
        }
      },
      "source": [
        "airbnb_schema.select(\"host_id\").distinct().count()"
      ],
      "execution_count": 0,
      "outputs": [
        {
          "output_type": "execute_result",
          "data": {
            "text/plain": [
              "37457"
            ]
          },
          "metadata": {
            "tags": []
          },
          "execution_count": 22
        }
      ]
    },
    {
      "cell_type": "markdown",
      "metadata": {
        "id": "mAMwi0CxsJbA",
        "colab_type": "text"
      },
      "source": [
        "**23. Number of apartments under different room type**"
      ]
    },
    {
      "cell_type": "code",
      "metadata": {
        "id": "wiwtvbjB6Z4v",
        "colab_type": "code",
        "outputId": "e66aca92-9e44-4c76-912a-3c6d71eee146",
        "colab": {
          "base_uri": "https://localhost:8080/",
          "height": 151
        }
      },
      "source": [
        "# Number of apartments under different room type\n",
        "room_type_data = airbnb_schema.where(airbnb_schema.room_type.isin(\"Private room\",\"Entire home/apt\",\"Shared room\")).groupBy(airbnb_schema[\"room_type\"]).count().sort(col(\"room_type\").desc())\n",
        "room_type_data.show()"
      ],
      "execution_count": 0,
      "outputs": [
        {
          "output_type": "stream",
          "text": [
            "+---------------+-----+\n",
            "|      room_type|count|\n",
            "+---------------+-----+\n",
            "|    Shared room| 1160|\n",
            "|   Private room|22326|\n",
            "|Entire home/apt|25409|\n",
            "+---------------+-----+\n",
            "\n"
          ],
          "name": "stdout"
        }
      ]
    },
    {
      "cell_type": "markdown",
      "metadata": {
        "id": "W-CyYRqWEtUj",
        "colab_type": "text"
      },
      "source": [
        "**24. Showing a general preference based on the room types. As we can see, most people prefer an Entire home/apt followed by Private Room and very few Shared rooms**"
      ]
    },
    {
      "cell_type": "code",
      "metadata": {
        "id": "OGM7C7k_XOGx",
        "colab_type": "code",
        "outputId": "34c212e0-7b4e-4519-86a1-1327f2c36c2d",
        "colab": {
          "base_uri": "https://localhost:8080/",
          "height": 373
        }
      },
      "source": [
        "import pandas as pd\n",
        "room_type_data_pd = room_type_data.toPandas()\n",
        "room_type_data_pd.index = room_type_data_pd['room_type']\n",
        "plt = room_type_data_pd.plot.pie(y='count', autopct='%1.1f%%', legend = False, title='Listings by Room types', figsize=(16,6))"
      ],
      "execution_count": 0,
      "outputs": [
        {
          "output_type": "display_data",
          "data": {
            "image/png": "[encoded data removed]",
            "text/plain": [
              "<Figure size 1152x432 with 1 Axes>"
            ]
          },
          "metadata": {
            "tags": []
          }
        }
      ]
    },
    {
      "cell_type": "markdown",
      "metadata": {
        "id": "DMh5QbhGseKb",
        "colab_type": "text"
      },
      "source": [
        "**25. Combining room_type with neighbourhoodt**"
      ]
    },
    {
      "cell_type": "code",
      "metadata": {
        "id": "mD-vE_Ze-MuF",
        "colab_type": "code",
        "outputId": "e22eb6bc-1a86-46dc-cb4f-75e56528b6e8",
        "colab": {
          "base_uri": "https://localhost:8080/",
          "height": 454
        }
      },
      "source": [
        "neigh_room_type_schema = airbnb_schema.select(airbnb_schema[\"neighbourhood\"], airbnb_schema[\"room_type\"]).show()"
      ],
      "execution_count": 0,
      "outputs": [
        {
          "output_type": "stream",
          "text": [
            "+------------------+---------------+\n",
            "|     neighbourhood|      room_type|\n",
            "+------------------+---------------+\n",
            "|        Kensington|   Private room|\n",
            "|           Midtown|Entire home/apt|\n",
            "|            Harlem|   Private room|\n",
            "|      Clinton Hill|Entire home/apt|\n",
            "|       East Harlem|Entire home/apt|\n",
            "|       Murray Hill|Entire home/apt|\n",
            "|Bedford-Stuyvesant|   Private room|\n",
            "|    Hell's Kitchen|   Private room|\n",
            "|   Upper West Side|   Private room|\n",
            "|         Chinatown|Entire home/apt|\n",
            "|   Upper West Side|Entire home/apt|\n",
            "|    Hell's Kitchen|   Private room|\n",
            "|       South Slope|   Private room|\n",
            "|   Upper West Side|   Private room|\n",
            "|      West Village|Entire home/apt|\n",
            "|      Williamsburg|Entire home/apt|\n",
            "|       Fort Greene|Entire home/apt|\n",
            "|           Chelsea|   Private room|\n",
            "|     Crown Heights|Entire home/apt|\n",
            "|       East Harlem|Entire home/apt|\n",
            "+------------------+---------------+\n",
            "only showing top 20 rows\n",
            "\n"
          ],
          "name": "stdout"
        }
      ]
    },
    {
      "cell_type": "markdown",
      "metadata": {
        "id": "nw0h9eYxsvuI",
        "colab_type": "text"
      },
      "source": [
        "**26. Below table shows room type by neighbourhood group**"
      ]
    },
    {
      "cell_type": "code",
      "metadata": {
        "id": "qHoePVu56OoF",
        "colab_type": "code",
        "outputId": "b0665ae1-2ff0-4546-d8ed-eef6136e4abe",
        "colab": {
          "base_uri": "https://localhost:8080/",
          "height": 353
        }
      },
      "source": [
        "# room type by neighbourhood group.\n",
        "neighbourhoodgrp_roomtype = airbnb_schema.select(airbnb_schema[\"neighbourhood_group\"], airbnb_schema[\"room_type\"]).groupBy(\"neighbourhood_group\", \"room_type\").count()\n",
        "neighbourhoodgrp_roomtype.show()"
      ],
      "execution_count": 0,
      "outputs": [
        {
          "output_type": "stream",
          "text": [
            "+-------------------+---------------+-----+\n",
            "|neighbourhood_group|      room_type|count|\n",
            "+-------------------+---------------+-----+\n",
            "|      Staten Island|   Private room|  188|\n",
            "|           Brooklyn|   Private room|10132|\n",
            "|              Bronx|Entire home/apt|  379|\n",
            "|             Queens|    Shared room|  198|\n",
            "|      Staten Island|    Shared room|    9|\n",
            "|          Manhattan|Entire home/apt|13199|\n",
            "|          Manhattan|   Private room| 7982|\n",
            "|          Manhattan|    Shared room|  480|\n",
            "|              Bronx|    Shared room|   60|\n",
            "|             Queens|   Private room| 3372|\n",
            "|             Queens|Entire home/apt| 2096|\n",
            "|              Bronx|   Private room|  652|\n",
            "|      Staten Island|Entire home/apt|  176|\n",
            "|           Brooklyn|Entire home/apt| 9559|\n",
            "|           Brooklyn|    Shared room|  413|\n",
            "+-------------------+---------------+-----+\n",
            "\n"
          ],
          "name": "stdout"
        }
      ]
    },
    {
      "cell_type": "markdown",
      "metadata": {
        "id": "APbPFFIgD5iE",
        "colab_type": "text"
      },
      "source": [
        "**27. Showing the distribution of room types based on the neighbourhood group. From this we can get an idea of what room type are most popular in respective neighbourhood group. This is very important data for someone who would like to setup a new listing or update an existing one.**"
      ]
    },
    {
      "cell_type": "code",
      "metadata": {
        "id": "dtSzuvpUY99e",
        "colab_type": "code",
        "outputId": "e300b155-ff19-43de-bb48-a4f2656b1a8c",
        "colab": {
          "base_uri": "https://localhost:8080/",
          "height": 407
        }
      },
      "source": [
        "import pandas as pd\n",
        "neighbourhoodgrp_roomtype_pd = neighbourhoodgrp_roomtype.toPandas()\n",
        "pd.pivot_table(neighbourhoodgrp_roomtype_pd, index='neighbourhood_group', columns='room_type', values='count').plot.bar(figsize=(10,5))\n"
      ],
      "execution_count": 0,
      "outputs": [
        {
          "output_type": "execute_result",
          "data": {
            "text/plain": [
              "<matplotlib.axes._subplots.AxesSubplot at 0x7f1b86d3f550>"
            ]
          },
          "metadata": {
            "tags": []
          },
          "execution_count": 27
        },
        {
          "output_type": "display_data",
          "data": {
            "image/png": "[encoded data removed]",
            "text/plain": [
              "<Figure size 720x360 with 1 Axes>"
            ]
          },
          "metadata": {
            "tags": []
          }
        }
      ]
    },
    {
      "cell_type": "markdown",
      "metadata": {
        "id": "erziFsMItbOZ",
        "colab_type": "text"
      },
      "source": [
        "**28. Combining neighbourhood with neighbourhood group**"
      ]
    },
    {
      "cell_type": "code",
      "metadata": {
        "id": "r9anwkqaiSDt",
        "colab_type": "code",
        "outputId": "1b1420e3-8ffb-4956-bd6e-1802b68a2b06",
        "colab": {
          "base_uri": "https://localhost:8080/",
          "height": 454
        }
      },
      "source": [
        "nei_group_nei_schema = airbnb_schema.select(airbnb_schema[\"neighbourhood_group\"], airbnb_schema[\"neighbourhood\"])\n",
        "nei_group_nei_schema.sort(col(\"neighbourhood_group\").desc()).show()"
      ],
      "execution_count": 0,
      "outputs": [
        {
          "output_type": "stream",
          "text": [
            "+-------------------+---------------+\n",
            "|neighbourhood_group|  neighbourhood|\n",
            "+-------------------+---------------+\n",
            "|      Staten Island|   Emerson Hill|\n",
            "|      Staten Island|        Woodrow|\n",
            "|      Staten Island|    Shore Acres|\n",
            "|      Staten Island|  Tompkinsville|\n",
            "|      Staten Island|       Arrochar|\n",
            "|      Staten Island|  Tompkinsville|\n",
            "|      Staten Island|       Arrochar|\n",
            "|      Staten Island|  Tompkinsville|\n",
            "|      Staten Island|Mariners Harbor|\n",
            "|      Staten Island|     St. George|\n",
            "|      Staten Island|        Concord|\n",
            "|      Staten Island|  Tompkinsville|\n",
            "|      Staten Island|        Concord|\n",
            "|      Staten Island|        Clifton|\n",
            "|      Staten Island|       Arrochar|\n",
            "|      Staten Island|      Stapleton|\n",
            "|      Staten Island|  Tompkinsville|\n",
            "|      Staten Island|    Tottenville|\n",
            "|      Staten Island|  Port Richmond|\n",
            "|      Staten Island|  Tompkinsville|\n",
            "+-------------------+---------------+\n",
            "only showing top 20 rows\n",
            "\n"
          ],
          "name": "stdout"
        }
      ]
    },
    {
      "cell_type": "markdown",
      "metadata": {
        "id": "dG0ZCViQuM4b",
        "colab_type": "text"
      },
      "source": [
        "**29. Find the popular neighbourhood groups:**\n",
        "\n",
        "Popular neighbourhood_groups are Manhattan, Brooklyn, Queens, Bronx"
      ]
    },
    {
      "cell_type": "code",
      "metadata": {
        "id": "CkDFyQdomyf5",
        "colab_type": "code",
        "outputId": "86f90cd3-41ab-4f4f-ce96-7d0f1b09c6f9",
        "colab": {
          "base_uri": "https://localhost:8080/",
          "height": 185
        }
      },
      "source": [
        "\n",
        "nei_group_nei_schema.groupBy(\"neighbourhood_group\").count().sort(col(\"count\").desc()).show()\n"
      ],
      "execution_count": 0,
      "outputs": [
        {
          "output_type": "stream",
          "text": [
            "+-------------------+-----+\n",
            "|neighbourhood_group|count|\n",
            "+-------------------+-----+\n",
            "|          Manhattan|21661|\n",
            "|           Brooklyn|20104|\n",
            "|             Queens| 5666|\n",
            "|              Bronx| 1091|\n",
            "|      Staten Island|  373|\n",
            "+-------------------+-----+\n",
            "\n"
          ],
          "name": "stdout"
        }
      ]
    },
    {
      "cell_type": "markdown",
      "metadata": {
        "id": "JL8-DbJXXkou",
        "colab_type": "text"
      },
      "source": [
        "Above we check which neighbourhood group is the most popular based on the number of listings in that group. Also, how the count varies for other neighbourhood groups. **The result shows that Manhattan is the most popular neighbourhood group for people**. This would make sense as Manhattan is one the busiest areas in NYC and there are lot of things in and around Manhattan where people would be interested in going and they would prefer a listing close to the area for convinience"
      ]
    },
    {
      "cell_type": "markdown",
      "metadata": {
        "id": "8cALlQwYwqSc",
        "colab_type": "text"
      },
      "source": [
        "**30. Number of neighbourhood in popular neighbourhood_groups**\n"
      ]
    },
    {
      "cell_type": "code",
      "metadata": {
        "id": "UckTbBs6nXlc",
        "colab_type": "code",
        "colab": {}
      },
      "source": [
        "manhattan_nei = nei_group_nei_schema.where(nei_group_nei_schema.neighbourhood_group.like(\"Manhattan\")).groupBy(\"neighbourhood\").count().sort(col(\"count\").desc())\n",
        "brooklyn_nei =  nei_group_nei_schema.where(nei_group_nei_schema.neighbourhood_group.like(\"Brooklyn\")).groupBy(\"neighbourhood\").count().sort(col(\"count\").desc())\n",
        "queens_nei =  nei_group_nei_schema.where(nei_group_nei_schema.neighbourhood_group.like(\"Queens\")).groupBy(\"neighbourhood\").count().sort(col(\"count\").desc())\n",
        "bronx_nei =  nei_group_nei_schema.where(nei_group_nei_schema.neighbourhood_group.like(\"Bronx\")).groupBy(\"neighbourhood\").count().sort(col(\"count\").desc())\n"
      ],
      "execution_count": 0,
      "outputs": []
    },
    {
      "cell_type": "markdown",
      "metadata": {
        "id": "vcFvnof5wzeU",
        "colab_type": "text"
      },
      "source": [
        "**31. Combining neighbourhood_group, neighbourhood and room_type**"
      ]
    },
    {
      "cell_type": "code",
      "metadata": {
        "id": "fHGyTVVbtq2t",
        "colab_type": "code",
        "colab": {}
      },
      "source": [
        "neigh_group_neigh_room_type_schema = airbnb_schema.select(\"neighbourhood_group\", \"neighbourhood\", \"room_type\")"
      ],
      "execution_count": 0,
      "outputs": []
    },
    {
      "cell_type": "markdown",
      "metadata": {
        "id": "z2-5jAzKw7uj",
        "colab_type": "text"
      },
      "source": [
        "**32. Distribution of rooms in various neighbourhood in  Manhatten.**"
      ]
    },
    {
      "cell_type": "code",
      "metadata": {
        "id": "QFqCNh1Kxrl1",
        "colab_type": "code",
        "outputId": "8ed8bf1b-0d50-4ce1-e2a1-06664316cbc7",
        "colab": {
          "base_uri": "https://localhost:8080/",
          "height": 1000
        }
      },
      "source": [
        "print(\"Showing distribution for room_type = 'Private room' in Manhattan\")\n",
        "manhattan_nei_private = neigh_group_neigh_room_type_schema.where((col(\"neighbourhood_group\")==\"Manhattan\") & (col(\"room_type\")==\"Private room\")).groupBy(\"neighbourhood\").count().sort(col(\"count\").desc()).show()\n",
        "print(\"Showing distribution for room_type = 'Shared room' in Manhattan\")\n",
        "manhattan_nei_shared = neigh_group_neigh_room_type_schema.where((col(\"neighbourhood_group\").like(\"Manhatt%\")) & (col(\"room_type\")==\"Shared room\")).groupBy(\"neighbourhood\").count().sort(col(\"count\").desc()).show()\n",
        "print(\"Showing distribution for room_type = 'Entire home/apt' in Manhattan\")\n",
        "manhattan_nei_entire_home = neigh_group_neigh_room_type_schema.where((col(\"neighbourhood_group\")==\"Manhattan\") & (col(\"room_type\")==\"Entire home/apt\")).groupBy(\"neighbourhood\").count().sort(col(\"count\").desc()).show()\n"
      ],
      "execution_count": 0,
      "outputs": [
        {
          "output_type": "stream",
          "text": [
            "Showing distribution for room_type = 'Private room' in Manhattan\n",
            "+-------------------+-----+\n",
            "|      neighbourhood|count|\n",
            "+-------------------+-----+\n",
            "|             Harlem| 1573|\n",
            "|    Upper West Side|  675|\n",
            "|     Hell's Kitchen|  672|\n",
            "|       East Village|  660|\n",
            "|        East Harlem|  586|\n",
            "| Washington Heights|  576|\n",
            "|    Upper East Side|  441|\n",
            "|            Midtown|  422|\n",
            "|    Lower East Side|  367|\n",
            "|            Chelsea|  278|\n",
            "|Morningside Heights|  192|\n",
            "| Financial District|  162|\n",
            "|          Chinatown|  156|\n",
            "|             Inwood|  145|\n",
            "|   Theater District|  122|\n",
            "|               SoHo|  115|\n",
            "|       West Village|  112|\n",
            "|           Kips Bay|  112|\n",
            "|  Greenwich Village|   99|\n",
            "|           Gramercy|   89|\n",
            "+-------------------+-----+\n",
            "only showing top 20 rows\n",
            "\n",
            "Showing distribution for room_type = 'Shared room' in Manhattan\n",
            "+-------------------+-----+\n",
            "|      neighbourhood|count|\n",
            "+-------------------+-----+\n",
            "|     Hell's Kitchen|   99|\n",
            "|             Harlem|   49|\n",
            "|    Upper East Side|   47|\n",
            "|        East Harlem|   45|\n",
            "|    Upper West Side|   40|\n",
            "|    Lower East Side|   38|\n",
            "| Washington Heights|   27|\n",
            "|            Midtown|   23|\n",
            "|       East Village|   23|\n",
            "|           Kips Bay|   18|\n",
            "|            Chelsea|   15|\n",
            "|        Murray Hill|   10|\n",
            "| Financial District|   10|\n",
            "|           Gramercy|    5|\n",
            "|             Inwood|    4|\n",
            "|Morningside Heights|    4|\n",
            "|       Little Italy|    4|\n",
            "|   Roosevelt Island|    3|\n",
            "|       West Village|    3|\n",
            "|             Nolita|    3|\n",
            "+-------------------+-----+\n",
            "only showing top 20 rows\n",
            "\n",
            "Showing distribution for room_type = 'Entire home/apt' in Manhattan\n",
            "+------------------+-----+\n",
            "|     neighbourhood|count|\n",
            "+------------------+-----+\n",
            "|   Upper East Side| 1310|\n",
            "|   Upper West Side| 1256|\n",
            "|    Hell's Kitchen| 1187|\n",
            "|      East Village| 1170|\n",
            "|           Midtown| 1100|\n",
            "|            Harlem| 1036|\n",
            "|           Chelsea|  820|\n",
            "|      West Village|  653|\n",
            "|Financial District|  572|\n",
            "|   Lower East Side|  506|\n",
            "|       East Harlem|  486|\n",
            "|       Murray Hill|  399|\n",
            "|          Kips Bay|  340|\n",
            "|Washington Heights|  296|\n",
            "| Greenwich Village|  291|\n",
            "|          Gramercy|  244|\n",
            "|              SoHo|  241|\n",
            "|         Chinatown|  210|\n",
            "|            Nolita|  165|\n",
            "|  Theater District|  164|\n",
            "+------------------+-----+\n",
            "only showing top 20 rows\n",
            "\n"
          ],
          "name": "stdout"
        }
      ]
    },
    {
      "cell_type": "markdown",
      "metadata": {
        "id": "pDqdqONQxMD9",
        "colab_type": "text"
      },
      "source": [
        "**33. Distribution of rooms in various neighbourhood in Brooklyn.**"
      ]
    },
    {
      "cell_type": "code",
      "metadata": {
        "id": "QrIk776LyRHb",
        "colab_type": "code",
        "outputId": "6943997f-1c6c-4d2a-f715-da901a4ac4d4",
        "colab": {
          "base_uri": "https://localhost:8080/",
          "height": 1000
        }
      },
      "source": [
        "\n",
        "print(\"Showing distribution for room_type = 'Private room' in Brooklyn\")\n",
        "brooklyn_nei_private = neigh_group_neigh_room_type_schema.where((col(\"neighbourhood_group\")==\"Brooklyn\") & (col(\"room_type\")==\"Private room\")).groupBy(\"neighbourhood\").count().sort(col(\"count\").desc()).show()\n",
        "print(\"Showing distribution for room_type = 'Shared room' in Brooklyn\")\n",
        "brooklyn_nei_shared = neigh_group_neigh_room_type_schema.where((col(\"neighbourhood_group\").like(\"Brooklyn\")) & (col(\"room_type\")==\"Shared room\")).groupBy(\"neighbourhood\").count().sort(col(\"count\").desc()).show()\n",
        "print(\"Showing distribution for room_type = 'Entire home/apt' in Brooklyn\")\n",
        "brooklyn_nei_entire_home = neigh_group_neigh_room_type_schema.where((col(\"neighbourhood_group\")==\"Brooklyn\") & (col(\"room_type\")==\"Entire home/apt\")).groupBy(\"neighbourhood\").count().sort(col(\"count\").desc()).show()\n"
      ],
      "execution_count": 0,
      "outputs": [
        {
          "output_type": "stream",
          "text": [
            "Showing distribution for room_type = 'Private room' in Brooklyn\n",
            "+--------------------+-----+\n",
            "|       neighbourhood|count|\n",
            "+--------------------+-----+\n",
            "|  Bedford-Stuyvesant| 2038|\n",
            "|        Williamsburg| 1997|\n",
            "|            Bushwick| 1719|\n",
            "|       Crown Heights|  780|\n",
            "|          Greenpoint|  476|\n",
            "|            Flatbush|  339|\n",
            "|       East Flatbush|  289|\n",
            "|Prospect-Lefferts...|  242|\n",
            "|        Clinton Hill|  217|\n",
            "|         Sunset Park|  205|\n",
            "|         Fort Greene|  174|\n",
            "|    Prospect Heights|  143|\n",
            "|          Park Slope|  139|\n",
            "|       East New York|  120|\n",
            "|             Gowanus|  110|\n",
            "|          Kensington|   98|\n",
            "|        Borough Park|   94|\n",
            "|         South Slope|   93|\n",
            "|      Sheepshead Bay|   86|\n",
            "|       Cypress Hills|   75|\n",
            "+--------------------+-----+\n",
            "only showing top 20 rows\n",
            "\n",
            "Showing distribution for room_type = 'Shared room' in Brooklyn\n",
            "+--------------------+-----+\n",
            "|       neighbourhood|count|\n",
            "+--------------------+-----+\n",
            "|  Bedford-Stuyvesant|   85|\n",
            "|            Bushwick|   68|\n",
            "|        Williamsburg|   32|\n",
            "|       Crown Heights|   25|\n",
            "|       East Flatbush|   24|\n",
            "|            Flatbush|   21|\n",
            "|      Sheepshead Bay|   19|\n",
            "|          Greenpoint|   17|\n",
            "|        Borough Park|   16|\n",
            "|           Gravesend|   14|\n",
            "|Prospect-Lefferts...|   12|\n",
            "|        Clinton Hill|    9|\n",
            "|         Fort Greene|    8|\n",
            "|             Midwood|    7|\n",
            "|      Brighton Beach|    7|\n",
            "|       Cypress Hills|    7|\n",
            "|           Bay Ridge|    6|\n",
            "|       East New York|    5|\n",
            "|         Sunset Park|    5|\n",
            "|        Coney Island|    4|\n",
            "+--------------------+-----+\n",
            "only showing top 20 rows\n",
            "\n",
            "Showing distribution for room_type = 'Entire home/apt' in Brooklyn\n",
            "+--------------------+-----+\n",
            "|       neighbourhood|count|\n",
            "+--------------------+-----+\n",
            "|        Williamsburg| 1891|\n",
            "|  Bedford-Stuyvesant| 1591|\n",
            "|       Crown Heights|  759|\n",
            "|            Bushwick|  678|\n",
            "|          Greenpoint|  622|\n",
            "|          Park Slope|  366|\n",
            "|        Clinton Hill|  346|\n",
            "|         Fort Greene|  307|\n",
            "|Prospect-Lefferts...|  281|\n",
            "|            Flatbush|  261|\n",
            "|    Prospect Heights|  214|\n",
            "|         South Slope|  190|\n",
            "|       East Flatbush|  187|\n",
            "|     Carroll Gardens|  182|\n",
            "|         Sunset Park|  180|\n",
            "|         Boerum Hill|  136|\n",
            "|             Gowanus|  135|\n",
            "|    Brooklyn Heights|  126|\n",
            "|     Windsor Terrace|  115|\n",
            "|       East New York|   93|\n",
            "+--------------------+-----+\n",
            "only showing top 20 rows\n",
            "\n"
          ],
          "name": "stdout"
        }
      ]
    },
    {
      "cell_type": "markdown",
      "metadata": {
        "id": "IRtZopzOxWV_",
        "colab_type": "text"
      },
      "source": [
        "**34. Distribution of rooms in various neighbourhood in Queens.**"
      ]
    },
    {
      "cell_type": "code",
      "metadata": {
        "id": "c-loIl4H14qb",
        "colab_type": "code",
        "outputId": "cf3ab780-931b-4681-cbd0-504827be47a0",
        "colab": {
          "base_uri": "https://localhost:8080/",
          "height": 1000
        }
      },
      "source": [
        "# \n",
        "print(\"Showing distribution for room_type = 'Private room' in Queens\")\n",
        "queens_nei_private = neigh_group_neigh_room_type_schema.where((col(\"neighbourhood_group\")==\"Queens\") & (col(\"room_type\")==\"Private room\")).groupBy(\"neighbourhood\").count().sort(col(\"count\").desc()).show()\n",
        "print(\"Showing distribution for room_type = 'Shared room' in Queens\")\n",
        "queens_nei_shared = neigh_group_neigh_room_type_schema.where((col(\"neighbourhood_group\")==\"Queens\") & (col(\"room_type\")==\"Shared room\")).groupBy(\"neighbourhood\").count().sort(col(\"count\").desc()).show()\n",
        "print(\"Showing distribution for room_type = 'Entire home/apt' in Queens\")\n",
        "queens_nei_entire_home = neigh_group_neigh_room_type_schema.where((col(\"neighbourhood_group\")==\"Queens\") & (col(\"room_type\")==\"Entire home/apt\")).groupBy(\"neighbourhood\").count().sort(col(\"count\").desc()).show()\n"
      ],
      "execution_count": 0,
      "outputs": [
        {
          "output_type": "stream",
          "text": [
            "Showing distribution for room_type = 'Private room' in Queens\n",
            "+-------------------+-----+\n",
            "|      neighbourhood|count|\n",
            "+-------------------+-----+\n",
            "|            Astoria|  494|\n",
            "|           Flushing|  307|\n",
            "|          Ridgewood|  284|\n",
            "|   Long Island City|  283|\n",
            "|          Sunnyside|  203|\n",
            "|   Ditmars Steinway|  186|\n",
            "|           Woodside|  171|\n",
            "|           Elmhurst|  171|\n",
            "|            Jamaica|  145|\n",
            "|      East Elmhurst|  126|\n",
            "|    Jackson Heights|  114|\n",
            "|       Forest Hills|   75|\n",
            "|          Woodhaven|   66|\n",
            "|            Maspeth|   63|\n",
            "|          Rego Park|   59|\n",
            "|      Richmond Hill|   57|\n",
            "|Springfield Gardens|   51|\n",
            "|         St. Albans|   49|\n",
            "|           Rosedale|   43|\n",
            "|          Briarwood|   35|\n",
            "+-------------------+-----+\n",
            "only showing top 20 rows\n",
            "\n",
            "Showing distribution for room_type = 'Shared room' in Queens\n",
            "+----------------+-----+\n",
            "|   neighbourhood|count|\n",
            "+----------------+-----+\n",
            "|       Sunnyside|   25|\n",
            "|         Astoria|   25|\n",
            "|          Corona|   24|\n",
            "| Jackson Heights|   14|\n",
            "|Long Island City|   14|\n",
            "|        Flushing|   13|\n",
            "|       Ridgewood|   10|\n",
            "|South Ozone Park|    8|\n",
            "|    Forest Hills|    8|\n",
            "|        Elmhurst|    8|\n",
            "|       Rego Park|    7|\n",
            "|   East Elmhurst|    6|\n",
            "|         Jamaica|    6|\n",
            "|   Richmond Hill|    4|\n",
            "|     Kew Gardens|    3|\n",
            "|         Maspeth|    3|\n",
            "|       Briarwood|    3|\n",
            "|      Ozone Park|    3|\n",
            "|Ditmars Steinway|    2|\n",
            "|       Woodhaven|    2|\n",
            "+----------------+-----+\n",
            "only showing top 20 rows\n",
            "\n",
            "Showing distribution for room_type = 'Entire home/apt' in Queens\n",
            "+-------------------+-----+\n",
            "|      neighbourhood|count|\n",
            "+-------------------+-----+\n",
            "|            Astoria|  381|\n",
            "|   Long Island City|  240|\n",
            "|          Sunnyside|  135|\n",
            "|          Ridgewood|  129|\n",
            "|   Ditmars Steinway|  121|\n",
            "|           Flushing|  106|\n",
            "|            Jamaica|   80|\n",
            "|           Woodside|   63|\n",
            "|       Forest Hills|   61|\n",
            "|    Jackson Heights|   58|\n",
            "|           Elmhurst|   58|\n",
            "|      East Elmhurst|   53|\n",
            "|            Arverne|   48|\n",
            "|            Maspeth|   44|\n",
            "|     Rockaway Beach|   42|\n",
            "|          Rego Park|   40|\n",
            "|         Ozone Park|   33|\n",
            "|     Queens Village|   33|\n",
            "|Springfield Gardens|   33|\n",
            "|      Richmond Hill|   33|\n",
            "+-------------------+-----+\n",
            "only showing top 20 rows\n",
            "\n"
          ],
          "name": "stdout"
        }
      ]
    },
    {
      "cell_type": "markdown",
      "metadata": {
        "id": "sYX21FePxfnp",
        "colab_type": "text"
      },
      "source": [
        "**35. Distribution of rooms in various neighbourhood in Bronx.**"
      ]
    },
    {
      "cell_type": "code",
      "metadata": {
        "id": "CRmk_6WI2zo_",
        "colab_type": "code",
        "outputId": "71c8033a-00a5-4c8e-c93c-ada6e6194fae",
        "colab": {
          "base_uri": "https://localhost:8080/",
          "height": 1000
        }
      },
      "source": [
        " print(\"Showing distribution for room_type = 'Private room' in Bronx\")\n",
        "bronx_nei_private = neigh_group_neigh_room_type_schema.where((col(\"neighbourhood_group\")==\"Bronx\") & (col(\"room_type\")==\"Private room\")).groupBy(\"neighbourhood\").count().sort(col(\"count\").desc()).show()\n",
        "print(\"Showing distribution for room_type = 'Shared room' in Bronx\")\n",
        "bronx_nei_shared = neigh_group_neigh_room_type_schema.where((col(\"neighbourhood_group\")==\"Bronx\") & (col(\"room_type\")==\"Shared room\")).groupBy(\"neighbourhood\").count().sort(col(\"count\").desc()).show()\n",
        "print(\"Showing distribution for room_type = 'Entire home/apt' in Bronx\")\n",
        "bronx_nei_entire_home = neigh_group_neigh_room_type_schema.where((col(\"neighbourhood_group\")==\"Bronx\") & (col(\"room_type\")==\"Entire home/apt\")).groupBy(\"neighbourhood\").count().sort(col(\"count\").desc()).show()\n"
      ],
      "execution_count": 0,
      "outputs": [
        {
          "output_type": "stream",
          "text": [
            "Showing distribution for room_type = 'Private room' in Bronx\n",
            "+------------------+-----+\n",
            "|     neighbourhood|count|\n",
            "+------------------+-----+\n",
            "|       Kingsbridge|   49|\n",
            "|           Fordham|   46|\n",
            "|          Longwood|   41|\n",
            "|        Mott Haven|   33|\n",
            "|         Wakefield|   31|\n",
            "|         Concourse|   30|\n",
            "|          Allerton|   26|\n",
            "|       Parkchester|   24|\n",
            "|           Norwood|   24|\n",
            "|    Williamsbridge|   21|\n",
            "| Concourse Village|   21|\n",
            "|        Highbridge|   20|\n",
            "| Claremont Village|   20|\n",
            "|           Belmont|   19|\n",
            "|       Hunts Point|   17|\n",
            "|University Heights|   15|\n",
            "|       Port Morris|   14|\n",
            "|       Throgs Neck|   13|\n",
            "|    Morris Heights|   12|\n",
            "|      Clason Point|   11|\n",
            "+------------------+-----+\n",
            "only showing top 20 rows\n",
            "\n",
            "Showing distribution for room_type = 'Shared room' in Bronx\n",
            "+-----------------+-----+\n",
            "|    neighbourhood|count|\n",
            "+-----------------+-----+\n",
            "|      Port Morris|   16|\n",
            "|      Parkchester|    6|\n",
            "|          Fordham|    4|\n",
            "|      Kingsbridge|    3|\n",
            "|       Morrisania|    3|\n",
            "|         Van Nest|    3|\n",
            "|          Tremont|    2|\n",
            "|        Olinville|    2|\n",
            "|       Pelham Bay|    2|\n",
            "|     Clason Point|    2|\n",
            "|          Belmont|    2|\n",
            "|Concourse Village|    2|\n",
            "|         Woodlawn|    1|\n",
            "|          Norwood|    1|\n",
            "|        Riverdale|    1|\n",
            "|   Morris Heights|    1|\n",
            "|      Morris Park|    1|\n",
            "|        Fieldston|    1|\n",
            "|        Bronxdale|    1|\n",
            "|    Schuylerville|    1|\n",
            "+-----------------+-----+\n",
            "only showing top 20 rows\n",
            "\n",
            "Showing distribution for room_type = 'Entire home/apt' in Bronx\n",
            "+-----------------+-----+\n",
            "|    neighbourhood|count|\n",
            "+-----------------+-----+\n",
            "|       Mott Haven|   27|\n",
            "|        Concourse|   20|\n",
            "|         Longwood|   20|\n",
            "|   Williamsbridge|   19|\n",
            "|      Kingsbridge|   18|\n",
            "|        Wakefield|   18|\n",
            "|   Pelham Gardens|   17|\n",
            "|         Allerton|   16|\n",
            "|      Port Morris|   16|\n",
            "|          Fordham|   13|\n",
            "|       Pelham Bay|   12|\n",
            "|      City Island|   11|\n",
            "|      Throgs Neck|   11|\n",
            "|       Mount Hope|   10|\n",
            "|      Parkchester|    9|\n",
            "|Concourse Village|    9|\n",
            "|Claremont Village|    8|\n",
            "|        Bronxdale|    8|\n",
            "|     Clason Point|    8|\n",
            "|       Highbridge|    7|\n",
            "+-----------------+-----+\n",
            "only showing top 20 rows\n",
            "\n"
          ],
          "name": "stdout"
        }
      ]
    },
    {
      "cell_type": "markdown",
      "metadata": {
        "id": "BAn0IKt3xm21",
        "colab_type": "text"
      },
      "source": [
        "**36. Total average price of various room types**"
      ]
    },
    {
      "cell_type": "code",
      "metadata": {
        "id": "atq8i8y63B53",
        "colab_type": "code",
        "outputId": "e52517c1-4f87-4f5e-8615-82b90f3f6ec3",
        "colab": {
          "base_uri": "https://localhost:8080/",
          "height": 420
        }
      },
      "source": [
        "nei_group_nei_room_price_schema = airbnb_schema.select(\"neighbourhood_group\", \"neighbourhood\", \"room_type\", \"price\")\n",
        "nei_group_nei_room_price_schema.agg(avg(col(\"price\")).alias(\"Total average price\")).show()\n",
        "# Total average price of private room.\n",
        "nei_group_nei_room_price_schema.where(col(\"room_type\")==\"Private room\").agg(avg(col(\"price\")).alias(\"Total average price of private room\")).show()\n",
        "# Total average price of shared room.\n",
        "nei_group_nei_room_price_schema.where(col(\"room_type\")==\"Shared room\").agg(avg(col(\"price\")).alias(\"Total average price of shared room\")).show()\n",
        "# Total average price of entire home/apt.\n",
        "nei_group_nei_room_price_schema.where(col(\"room_type\")==\"Entire home/apt\").agg(avg(col(\"price\")).alias(\"Total average price of entire home room\")).show()"
      ],
      "execution_count": 0,
      "outputs": [
        {
          "output_type": "stream",
          "text": [
            "+-------------------+\n",
            "|Total average price|\n",
            "+-------------------+\n",
            "|  152.7206871868289|\n",
            "+-------------------+\n",
            "\n",
            "+-----------------------------------+\n",
            "|Total average price of private room|\n",
            "+-----------------------------------+\n",
            "|                  89.78097285675894|\n",
            "+-----------------------------------+\n",
            "\n",
            "+----------------------------------+\n",
            "|Total average price of shared room|\n",
            "+----------------------------------+\n",
            "|                 70.12758620689655|\n",
            "+----------------------------------+\n",
            "\n",
            "+---------------------------------------+\n",
            "|Total average price of entire home room|\n",
            "+---------------------------------------+\n",
            "|                     211.79424613325986|\n",
            "+---------------------------------------+\n",
            "\n"
          ],
          "name": "stdout"
        }
      ]
    },
    {
      "cell_type": "markdown",
      "metadata": {
        "id": "ZWf-x2v3xwtD",
        "colab_type": "text"
      },
      "source": [
        "**37. Average price of various room types in Manhatton**"
      ]
    },
    {
      "cell_type": "code",
      "metadata": {
        "id": "wBmuTG3UktqA",
        "colab_type": "code",
        "outputId": "8cc6600c-acb5-498c-c742-8fd991866d09",
        "colab": {
          "base_uri": "https://localhost:8080/",
          "height": 319
        }
      },
      "source": [
        "manhattan_nei_private = nei_group_nei_room_price_schema.where((col(\"neighbourhood_group\")==\"Manhattan\") & (col(\"room_type\")==\"Private room\")).agg(avg(col(\"price\")).alias(\"Average price of private room in Manhattan\")).show()\n",
        "manhattan_nei_shared = nei_group_nei_room_price_schema.where((col(\"neighbourhood_group\")==\"Manhattan\") & (col(\"room_type\")==\"Shared room\")).agg(avg(col(\"price\")).alias(\"Average price of shared room in Manhattan\")).show()\n",
        "manhattan_nei_entire_home = nei_group_nei_room_price_schema.where((col(\"neighbourhood_group\")==\"Manhattan\") & (col(\"room_type\")==\"Entire home/apt\")).agg(avg(col(\"price\")).alias(\"Average price of entire home/apt in Manhattan\")).show()\n"
      ],
      "execution_count": 0,
      "outputs": [
        {
          "output_type": "stream",
          "text": [
            "+------------------------------------------+\n",
            "|Average price of private room in Manhattan|\n",
            "+------------------------------------------+\n",
            "|                         116.7766224004009|\n",
            "+------------------------------------------+\n",
            "\n",
            "+-----------------------------------------+\n",
            "|Average price of shared room in Manhattan|\n",
            "+-----------------------------------------+\n",
            "|                        88.97708333333334|\n",
            "+-----------------------------------------+\n",
            "\n",
            "+---------------------------------------------+\n",
            "|Average price of entire home/apt in Manhattan|\n",
            "+---------------------------------------------+\n",
            "|                           249.23910902341086|\n",
            "+---------------------------------------------+\n",
            "\n"
          ],
          "name": "stdout"
        }
      ]
    },
    {
      "cell_type": "markdown",
      "metadata": {
        "id": "3UpDlJBnx_yD",
        "colab_type": "text"
      },
      "source": [
        "**38. Average price of various room types in Brooklyn**"
      ]
    },
    {
      "cell_type": "code",
      "metadata": {
        "id": "iukt5ZJtk8pF",
        "colab_type": "code",
        "outputId": "f8842489-b920-4d89-dd54-6beda7bd8ac2",
        "colab": {
          "base_uri": "https://localhost:8080/",
          "height": 319
        }
      },
      "source": [
        "brooklyn_nei_private = nei_group_nei_room_price_schema.where((col(\"neighbourhood_group\")==\"Brooklyn\") & (col(\"room_type\")==\"Private room\")).agg(avg(col(\"price\")).alias(\"Average price of private room in Brooklyn\")).show()\n",
        "brooklyn_nei_shared = nei_group_nei_room_price_schema.where((col(\"neighbourhood_group\")==\"Brooklyn\") & (col(\"room_type\")==\"Shared room\")).agg(avg(col(\"price\")).alias(\"Average price of shared room in Brooklyn\")).show()\n",
        "brooklyn_nei_entire_home = nei_group_nei_room_price_schema.where((col(\"neighbourhood_group\")==\"Brooklyn\") & (col(\"room_type\")==\"Entire home/apt\")).agg(avg(col(\"price\")).alias(\"Average price of entire home/apt in Brooklyn\")).show()\n"
      ],
      "execution_count": 0,
      "outputs": [
        {
          "output_type": "stream",
          "text": [
            "+-----------------------------------------+\n",
            "|Average price of private room in Brooklyn|\n",
            "+-----------------------------------------+\n",
            "|                          76.500098697197|\n",
            "+-----------------------------------------+\n",
            "\n",
            "+----------------------------------------+\n",
            "|Average price of shared room in Brooklyn|\n",
            "+----------------------------------------+\n",
            "|                       50.52784503631961|\n",
            "+----------------------------------------+\n",
            "\n",
            "+--------------------------------------------+\n",
            "|Average price of entire home/apt in Brooklyn|\n",
            "+--------------------------------------------+\n",
            "|                          178.32754472225128|\n",
            "+--------------------------------------------+\n",
            "\n"
          ],
          "name": "stdout"
        }
      ]
    },
    {
      "cell_type": "markdown",
      "metadata": {
        "id": "0I793p49yHeI",
        "colab_type": "text"
      },
      "source": [
        "**39. Average price of various room types in Queens**"
      ]
    },
    {
      "cell_type": "code",
      "metadata": {
        "id": "IkYRxYZtlPg_",
        "colab_type": "code",
        "outputId": "7cc7a5ef-50af-4881-ec2f-a9ae2ca574a9",
        "colab": {
          "base_uri": "https://localhost:8080/",
          "height": 319
        }
      },
      "source": [
        "# Average price of various room types in various (popular) neighbourhood groups\n",
        "# In Queens.\n",
        "queens_nei_private = nei_group_nei_room_price_schema.where((col(\"neighbourhood_group\")==\"Queens\") & (col(\"room_type\")==\"Private room\")).agg(avg(col(\"price\")).alias(\"Average price of private room in Queens\")).show()\n",
        "queens_nei_shared = nei_group_nei_room_price_schema.where((col(\"neighbourhood_group\")==\"Queens\") & (col(\"room_type\")==\"Shared room\")).agg(avg(col(\"price\")).alias(\"Average price of shared room in Queens\")).show()\n",
        "queens_nei_entire_home = nei_group_nei_room_price_schema.where((col(\"neighbourhood_group\")==\"Queens\") & (col(\"room_type\")==\"Entire home/apt\")).agg(avg(col(\"price\")).alias(\"Average price of entire home/apt in Queens\")).show()\n"
      ],
      "execution_count": 0,
      "outputs": [
        {
          "output_type": "stream",
          "text": [
            "+---------------------------------------+\n",
            "|Average price of private room in Queens|\n",
            "+---------------------------------------+\n",
            "|                      71.76245551601423|\n",
            "+---------------------------------------+\n",
            "\n",
            "+--------------------------------------+\n",
            "|Average price of shared room in Queens|\n",
            "+--------------------------------------+\n",
            "|                     69.02020202020202|\n",
            "+--------------------------------------+\n",
            "\n",
            "+------------------------------------------+\n",
            "|Average price of entire home/apt in Queens|\n",
            "+------------------------------------------+\n",
            "|                        147.05057251908397|\n",
            "+------------------------------------------+\n",
            "\n"
          ],
          "name": "stdout"
        }
      ]
    },
    {
      "cell_type": "markdown",
      "metadata": {
        "id": "hh4yKUovyPb1",
        "colab_type": "text"
      },
      "source": [
        "**40. Average price of various room types in Bronx**"
      ]
    },
    {
      "cell_type": "code",
      "metadata": {
        "id": "fX_wkWLsbgm0",
        "colab_type": "code",
        "outputId": "ca88d0a4-d3fe-4fd4-9da4-d54c90bb3ac7",
        "colab": {
          "base_uri": "https://localhost:8080/",
          "height": 319
        }
      },
      "source": [
        " # Average price of various room types in various (popular) neighbourhood groups\n",
        "# In Bronx.\n",
        "bronx_nei_private = nei_group_nei_room_price_schema.where((col(\"neighbourhood_group\")==\"Bronx\") & (col(\"room_type\")==\"Private room\")).agg(avg(col(\"price\")).alias(\"Average price of private room in Bronx\")).show()\n",
        "bronx_nei_shared = nei_group_nei_room_price_schema.where((col(\"neighbourhood_group\")==\"Bronx\") & (col(\"room_type\")==\"Shared room\")).agg(avg(col(\"price\")).alias(\"Average price of shared room in Bronx\")).show()\n",
        "bronx_nei_entire_home = nei_group_nei_room_price_schema.where((col(\"neighbourhood_group\")==\"Bronx\") & (col(\"room_type\")==\"Entire home/apt\")).agg(avg(col(\"price\")).alias(\"Average price of entire home/apt in Bronx\")).show()\n"
      ],
      "execution_count": 0,
      "outputs": [
        {
          "output_type": "stream",
          "text": [
            "+--------------------------------------+\n",
            "|Average price of private room in Bronx|\n",
            "+--------------------------------------+\n",
            "|                     66.78834355828221|\n",
            "+--------------------------------------+\n",
            "\n",
            "+-------------------------------------+\n",
            "|Average price of shared room in Bronx|\n",
            "+-------------------------------------+\n",
            "|                                 59.8|\n",
            "+-------------------------------------+\n",
            "\n",
            "+-----------------------------------------+\n",
            "|Average price of entire home/apt in Bronx|\n",
            "+-----------------------------------------+\n",
            "|                        127.5065963060686|\n",
            "+-----------------------------------------+\n",
            "\n"
          ],
          "name": "stdout"
        }
      ]
    },
    {
      "cell_type": "markdown",
      "metadata": {
        "id": "TH5pGzn0yV85",
        "colab_type": "text"
      },
      "source": [
        "**41. Total frequency of nights people stay in all the neighbourhood groups**"
      ]
    },
    {
      "cell_type": "code",
      "metadata": {
        "id": "KgbrelGifujs",
        "colab_type": "code",
        "outputId": "c64e81e5-494e-415e-8278-fbdc491aa98d",
        "colab": {
          "base_uri": "https://localhost:8080/",
          "height": 454
        }
      },
      "source": [
        "\n",
        "nei_group_nei_min_nights_schema = airbnb_schema.select(\"neighbourhood_group\", \"neighbourhood\", \"minimum_nights\")\n",
        "nei_group_nei_min_nights_schema.na.drop(subset=[\"minimum_nights\"]).groupBy(\"minimum_nights\").count().sort(col(\"minimum_nights\").asc()).show()"
      ],
      "execution_count": 0,
      "outputs": [
        {
          "output_type": "stream",
          "text": [
            "+--------------+-----+\n",
            "|minimum_nights|count|\n",
            "+--------------+-----+\n",
            "|             1|12720|\n",
            "|             2|11696|\n",
            "|             3| 7999|\n",
            "|             4| 3303|\n",
            "|             5| 3034|\n",
            "|             6|  752|\n",
            "|             7| 2058|\n",
            "|             8|  130|\n",
            "|             9|   80|\n",
            "|            10|  483|\n",
            "|            11|   33|\n",
            "|            12|   91|\n",
            "|            13|   54|\n",
            "|            14|  562|\n",
            "|            15|  279|\n",
            "|            16|   18|\n",
            "|            17|   14|\n",
            "|            18|   28|\n",
            "|            19|    8|\n",
            "|            20|  223|\n",
            "+--------------+-----+\n",
            "only showing top 20 rows\n",
            "\n"
          ],
          "name": "stdout"
        }
      ]
    },
    {
      "cell_type": "markdown",
      "metadata": {
        "id": "Cs64xQtBy6uk",
        "colab_type": "text"
      },
      "source": [
        "**42. Total frequency of nights people stay in various (popular) neighbourhood groups**"
      ]
    },
    {
      "cell_type": "code",
      "metadata": {
        "id": "qTjDEfONuG4j",
        "colab_type": "code",
        "outputId": "f96e14e8-afb0-49ea-a434-44e93880cb10",
        "colab": {
          "base_uri": "https://localhost:8080/",
          "height": 1781
        }
      },
      "source": [
        "# Total frequency of nights people stay in various (popular) neighbourhood groups\n",
        "total_manhatten  = nei_group_nei_min_nights_schema.where((col(\"neighbourhood_group\")==\"Manhattan\")).count()\n",
        "print(total_manhatten)\n",
        "# In Manhattan.\n",
        "manhattan_nei = nei_group_nei_min_nights_schema.where(col(\"neighbourhood_group\")==\"Manhattan\").groupBy(\"minimum_nights\").count().sort(col(\"minimum_nights\").asc()).show()\n",
        "# In Brooklyn\n",
        "brooklyn_nei = nei_group_nei_min_nights_schema.where((col(\"neighbourhood_group\")==\"Brooklyn\")).groupBy(\"minimum_nights\").count().sort(col(\"minimum_nights\").asc()).show()\n",
        "# In Queens\n",
        "queens_nei = nei_group_nei_min_nights_schema.where((col(\"neighbourhood_group\")==\"Queens\")).groupBy(\"minimum_nights\").count().sort(col(\"minimum_nights\").asc()).show()\n",
        "# In Bronx\n",
        "bronx_nei = nei_group_nei_min_nights_schema.where((col(\"neighbourhood_group\")==\"Bronx\")).groupBy(\"minimum_nights\").count().sort(col(\"minimum_nights\").asc()).show()\n"
      ],
      "execution_count": 0,
      "outputs": [
        {
          "output_type": "stream",
          "text": [
            "21661\n",
            "+--------------+-----+\n",
            "|minimum_nights|count|\n",
            "+--------------+-----+\n",
            "|             1| 5418|\n",
            "|             2| 4506|\n",
            "|             3| 3463|\n",
            "|             4| 1508|\n",
            "|             5| 1337|\n",
            "|             6|  362|\n",
            "|             7|  889|\n",
            "|             8|   63|\n",
            "|             9|   33|\n",
            "|            10|  203|\n",
            "|            11|   17|\n",
            "|            12|   51|\n",
            "|            13|   20|\n",
            "|            14|  248|\n",
            "|            15|  107|\n",
            "|            16|    9|\n",
            "|            17|    6|\n",
            "|            18|    8|\n",
            "|            19|    6|\n",
            "|            20|   89|\n",
            "+--------------+-----+\n",
            "only showing top 20 rows\n",
            "\n",
            "+--------------+-----+\n",
            "|minimum_nights|count|\n",
            "+--------------+-----+\n",
            "|             1| 4650|\n",
            "|             2| 5321|\n",
            "|             3| 3597|\n",
            "|             4| 1434|\n",
            "|             5| 1383|\n",
            "|             6|  318|\n",
            "|             7|  927|\n",
            "|             8|   63|\n",
            "|             9|   38|\n",
            "|            10|  241|\n",
            "|            11|   14|\n",
            "|            12|   38|\n",
            "|            13|   29|\n",
            "|            14|  255|\n",
            "|            15|  135|\n",
            "|            16|    7|\n",
            "|            17|    7|\n",
            "|            18|   14|\n",
            "|            19|    2|\n",
            "|            20|  110|\n",
            "+--------------+-----+\n",
            "only showing top 20 rows\n",
            "\n",
            "+--------------+-----+\n",
            "|minimum_nights|count|\n",
            "+--------------+-----+\n",
            "|             1| 2178|\n",
            "|             2| 1390|\n",
            "|             3|  713|\n",
            "|             4|  280|\n",
            "|             5|  247|\n",
            "|             6|   64|\n",
            "|             7|  203|\n",
            "|             8|    4|\n",
            "|             9|    9|\n",
            "|            10|   31|\n",
            "|            11|    2|\n",
            "|            12|    2|\n",
            "|            13|    5|\n",
            "|            14|   48|\n",
            "|            15|   35|\n",
            "|            16|    2|\n",
            "|            17|    1|\n",
            "|            18|    6|\n",
            "|            20|   21|\n",
            "|            21|   14|\n",
            "+--------------+-----+\n",
            "only showing top 20 rows\n",
            "\n",
            "+--------------+-----+\n",
            "|minimum_nights|count|\n",
            "+--------------+-----+\n",
            "|             1|  362|\n",
            "|             2|  357|\n",
            "|             3|  180|\n",
            "|             4|   36|\n",
            "|             5|   55|\n",
            "|             6|    7|\n",
            "|             7|   30|\n",
            "|            10|    4|\n",
            "|            14|    9|\n",
            "|            15|    2|\n",
            "|            20|    3|\n",
            "|            21|    4|\n",
            "|            22|    1|\n",
            "|            26|    1|\n",
            "|            28|    2|\n",
            "|            30|   25|\n",
            "|            40|    1|\n",
            "|            90|    8|\n",
            "|            91|    1|\n",
            "|            93|    1|\n",
            "+--------------+-----+\n",
            "only showing top 20 rows\n",
            "\n"
          ],
          "name": "stdout"
        }
      ]
    },
    {
      "cell_type": "markdown",
      "metadata": {
        "id": "QaiRUNjvfJbS",
        "colab_type": "text"
      },
      "source": [
        "\n",
        "\n",
        "**43. Let us check the 'number_of_reviews' column. We can find out the most popular listings based on the number of reviews.**\n",
        "\n",
        "**Here we display top 20 records**"
      ]
    },
    {
      "cell_type": "code",
      "metadata": {
        "id": "w3IfKgO9ZU7S",
        "colab_type": "code",
        "outputId": "05d3e643-9954-4a0a-ae1f-a8426e985df3",
        "colab": {
          "base_uri": "https://localhost:8080/",
          "height": 877
        }
      },
      "source": [
        "# 'number_of_reviews' column\n",
        "from operator import attrgetter\n",
        "data = airbnb_schema.rdd.top(20, attrgetter(\"number_of_reviews\"))\n",
        "most_reviewed_df = spark.sparkContext.parallelize(data).toDF()\n",
        "most_reviewed_df.show()\n",
        "most_reviewed_df.first()\n",
        "most_reviewed_df.select(\"name\", \"neighbourhood_group\", \"neighbourhood\", \"room_type\", \"number_of_reviews\").show()"
      ],
      "execution_count": 0,
      "outputs": [
        {
          "output_type": "stream",
          "text": [
            "+--------------------+--------+-------------------+---------------+--------+---------+---------------+-----+--------------+-----------------+-----------------+------------------------------+----------------+\n",
            "|                name| host_id|neighbourhood_group|  neighbourhood|latitude|longitude|      room_type|price|minimum_nights|number_of_reviews|reviews_per_month|calculated_host_listings_count|availability_365|\n",
            "+--------------------+--------+-------------------+---------------+--------+---------+---------------+-----+--------------+-----------------+-----------------+------------------------------+----------------+\n",
            "|Room near JFK Que...|47621202|             Queens|        Jamaica| 40.6673|-73.76831|   Private room|   47|             1|              629|            14.58|                             2|             333|\n",
            "|Great Bedroom in ...| 4734398|          Manhattan|         Harlem|40.82085|-73.94025|   Private room|   49|             1|              607|             7.75|                             3|             293|\n",
            "|Beautiful Bedroom...| 4734398|          Manhattan|         Harlem|40.82124|-73.93838|   Private room|   49|             1|              597|             7.72|                             3|             342|\n",
            "|Private Bedroom i...| 4734398|          Manhattan|         Harlem|40.82264|-73.94041|   Private room|   49|             1|              594|             7.57|                             3|             339|\n",
            "|Room Near JFK Twi...|47621202|             Queens|        Jamaica|40.66939|-73.76975|   Private room|   47|             1|              576|             13.4|                             2|             173|\n",
            "|Steps away from L...|37312959|             Queens|  East Elmhurst|40.77006|-73.87683|   Private room|   46|             1|              543|            11.59|                             5|             163|\n",
            "|Manhattan Lux Lof...| 2369681|          Manhattan|Lower East Side|40.71921|-73.99116|   Private room|   99|             2|              540|             6.95|                             1|             179|\n",
            "|Cozy Room Family ...|26432133|             Queens|  East Elmhurst|40.76335|-73.87007|   Private room|   48|             1|              510|            16.22|                             5|             341|\n",
            "|Private brownston...|12949460|           Brooklyn|     Park Slope|40.67926|-73.97711|Entire home/apt|  160|             1|              488|             8.14|                             1|             269|\n",
            "|LG Private Room/F...|  792159|           Brooklyn|       Bushwick|40.70283|-73.92131|   Private room|   60|             3|              480|              6.7|                             1|               0|\n",
            "|My Little Guest R...| 2680820|             Queens|       Flushing|40.75578|-73.81948|   Private room|   55|             1|              474|             5.53|                             3|             332|\n",
            "|Park Slope Green ...|   42273|           Brooklyn|    South Slope|40.66853|-73.98912|Entire home/apt|  120|            30|              467|             4.22|                             2|             192|\n",
            "|Bright LARGE BED ...|23591164|             Queens|  East Elmhurst|40.76664|-73.87577|   Private room|   65|             1|              466|             9.16|                             4|             331|\n",
            "|Only Steps away f...|37312959|             Queens|  East Elmhurst|40.77026|-73.87561|   Private room|   45|             1|              459|            10.72|                             5|             175|\n",
            "|PRIVATE Room on H...|  277379|          Manhattan|         Harlem| 40.8251|-73.94287|   Private room|   60|             1|              458|             4.58|                             2|             258|\n",
            "|    yahmanscrashpads| 2321321|             Queens|        Jamaica|40.67747|-73.76493|    Shared room|   39|             1|              454|             5.27|                             1|             353|\n",
            "|Cozy Room in Live...| 2267153|          Manhattan|   East Village| 40.7276|-73.98347|   Private room|   72|             5|              451|             5.26|                             2|              13|\n",
            "|Room steps away f...|37312959|             Queens|  East Elmhurst|40.77005|-73.87691|   Private room|   45|             1|              448|             9.63|                             5|             166|\n",
            "|TriBeCa 2500 Sq F...|  273174|          Manhattan|        Tribeca|40.71927|-74.00453|Entire home/apt|  575|             1|              447|             5.89|                             3|             207|\n",
            "|Safe cute near su...|  307962|             Queens|        Astoria|40.75384|-73.91433|Entire home/apt|   99|             5|              441|              4.5|                             1|             226|\n",
            "+--------------------+--------+-------------------+---------------+--------+---------+---------------+-----+--------------+-----------------+-----------------+------------------------------+----------------+\n",
            "\n",
            "+--------------------+-------------------+---------------+---------------+-----------------+\n",
            "|                name|neighbourhood_group|  neighbourhood|      room_type|number_of_reviews|\n",
            "+--------------------+-------------------+---------------+---------------+-----------------+\n",
            "|Room near JFK Que...|             Queens|        Jamaica|   Private room|              629|\n",
            "|Great Bedroom in ...|          Manhattan|         Harlem|   Private room|              607|\n",
            "|Beautiful Bedroom...|          Manhattan|         Harlem|   Private room|              597|\n",
            "|Private Bedroom i...|          Manhattan|         Harlem|   Private room|              594|\n",
            "|Room Near JFK Twi...|             Queens|        Jamaica|   Private room|              576|\n",
            "|Steps away from L...|             Queens|  East Elmhurst|   Private room|              543|\n",
            "|Manhattan Lux Lof...|          Manhattan|Lower East Side|   Private room|              540|\n",
            "|Cozy Room Family ...|             Queens|  East Elmhurst|   Private room|              510|\n",
            "|Private brownston...|           Brooklyn|     Park Slope|Entire home/apt|              488|\n",
            "|LG Private Room/F...|           Brooklyn|       Bushwick|   Private room|              480|\n",
            "|My Little Guest R...|             Queens|       Flushing|   Private room|              474|\n",
            "|Park Slope Green ...|           Brooklyn|    South Slope|Entire home/apt|              467|\n",
            "|Bright LARGE BED ...|             Queens|  East Elmhurst|   Private room|              466|\n",
            "|Only Steps away f...|             Queens|  East Elmhurst|   Private room|              459|\n",
            "|PRIVATE Room on H...|          Manhattan|         Harlem|   Private room|              458|\n",
            "|    yahmanscrashpads|             Queens|        Jamaica|    Shared room|              454|\n",
            "|Cozy Room in Live...|          Manhattan|   East Village|   Private room|              451|\n",
            "|Room steps away f...|             Queens|  East Elmhurst|   Private room|              448|\n",
            "|TriBeCa 2500 Sq F...|          Manhattan|        Tribeca|Entire home/apt|              447|\n",
            "|Safe cute near su...|             Queens|        Astoria|Entire home/apt|              441|\n",
            "+--------------------+-------------------+---------------+---------------+-----------------+\n",
            "\n"
          ],
          "name": "stdout"
        }
      ]
    },
    {
      "cell_type": "markdown",
      "metadata": {
        "id": "asOD3_eqfIXQ",
        "colab_type": "text"
      },
      "source": [
        "**As we can see, the host with name = 'Room near JFK Queen Bed' and host_id = '47621202' has the most reviews (629 reviews)**"
      ]
    },
    {
      "cell_type": "markdown",
      "metadata": {
        "id": "Wws0IRpTzXO5",
        "colab_type": "text"
      },
      "source": [
        "**44. The average price for the listing for the 20 most reviewed listings is $91. We can also observe that 15/20 listings are Private rooms, 4/20 are Entire home/apt and only 1 in the top 20 is a Shared room.**"
      ]
    },
    {
      "cell_type": "code",
      "metadata": {
        "id": "5o8Ckoevf9Hi",
        "colab_type": "code",
        "outputId": "2b8f1ee0-39b0-454a-f3e5-c39dc6059599",
        "colab": {
          "base_uri": "https://localhost:8080/",
          "height": 118
        }
      },
      "source": [
        "most_reviewed_df.agg(avg(\"price\")).show()"
      ],
      "execution_count": 0,
      "outputs": [
        {
          "output_type": "stream",
          "text": [
            "+----------+\n",
            "|avg(price)|\n",
            "+----------+\n",
            "|     91.45|\n",
            "+----------+\n",
            "\n"
          ],
          "name": "stdout"
        }
      ]
    },
    {
      "cell_type": "markdown",
      "metadata": {
        "id": "mzzKJSSOkTzF",
        "colab_type": "text"
      },
      "source": [
        "**45. We will now look at the latitude and longitude columns in the dataset. We can take a look at how the listings are distributed across geography. This will also tell us that which geographic region shows promise for starting a new listing.**"
      ]
    },
    {
      "cell_type": "code",
      "metadata": {
        "id": "LJCPl72sfEJL",
        "colab_type": "code",
        "outputId": "d61105a7-7e92-4625-ca5d-2e6cef5c19b3",
        "colab": {
          "base_uri": "https://localhost:8080/",
          "height": 380
        }
      },
      "source": [
        "import pandas as pd\n",
        "import matplotlib.pyplot as matp\n",
        "airbnb_schema_pd = airbnb_schema.toPandas()\n",
        "airbnb_schema_pd_trimmed = airbnb_schema_pd[airbnb_schema_pd['price'] < 500]\n",
        "airbnb_schema_pd_trimmed.plot.scatter(x='longitude', y='latitude', c='price', cmap=matp.get_cmap('viridis'), figsize=(10,6))"
      ],
      "execution_count": 0,
      "outputs": [
        {
          "output_type": "execute_result",
          "data": {
            "text/plain": [
              "<matplotlib.axes._subplots.AxesSubplot at 0x7f1b86c1bef0>"
            ]
          },
          "metadata": {
            "tags": []
          },
          "execution_count": 40
        },
        {
          "output_type": "display_data",
          "data": {
            "image/png": "[encoded data removed]",
            "text/plain": [
              "<Figure size 720x432 with 2 Axes>"
            ]
          },
          "metadata": {
            "tags": []
          }
        }
      ]
    }
  ]
}